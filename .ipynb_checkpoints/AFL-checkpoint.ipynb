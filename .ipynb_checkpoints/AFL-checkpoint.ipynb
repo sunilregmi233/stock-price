{
 "cells": [
  {
   "cell_type": "code",
   "execution_count": 134,
   "metadata": {},
   "outputs": [],
   "source": [
    "\n",
    "import mpld3 \n",
    "mpld3.enable_notebook()\n",
    "import statsmodels.api as sm\n",
    "import pandas as pd\n",
    "import datetime\n",
    "import matplotlib.pyplot as plt\n",
    "from matplotlib import style\n",
    "import numpy as np\n",
    "import datetime, math\n",
    "import scipy.stats as sci\n",
    "from sklearn import metrics\n",
    "from sklearn.linear_model import LinearRegression\n",
    "from sklearn import preprocessing\n",
    "from sklearn.model_selection import train_test_split\n",
    "\n",
    "style.use('ggplot')\n",
    "import seaborn as sns\n",
    "sns.set()\n"
   ]
  },
  {
   "cell_type": "code",
   "execution_count": 135,
   "metadata": {},
   "outputs": [
    {
     "data": {
      "text/html": [
       "<div>\n",
       "<style scoped>\n",
       "    .dataframe tbody tr th:only-of-type {\n",
       "        vertical-align: middle;\n",
       "    }\n",
       "\n",
       "    .dataframe tbody tr th {\n",
       "        vertical-align: top;\n",
       "    }\n",
       "\n",
       "    .dataframe thead th {\n",
       "        text-align: right;\n",
       "    }\n",
       "</style>\n",
       "<table border=\"1\" class=\"dataframe\">\n",
       "  <thead>\n",
       "    <tr style=\"text-align: right;\">\n",
       "      <th></th>\n",
       "      <th>date</th>\n",
       "      <th>high</th>\n",
       "      <th>low</th>\n",
       "      <th>close</th>\n",
       "      <th>volume</th>\n",
       "      <th>open</th>\n",
       "    </tr>\n",
       "  </thead>\n",
       "  <tbody>\n",
       "    <tr>\n",
       "      <th>272</th>\n",
       "      <td>7/17/2012</td>\n",
       "      <td>107.0</td>\n",
       "      <td>103.0</td>\n",
       "      <td>107.0</td>\n",
       "      <td>270442.0</td>\n",
       "      <td>102.0</td>\n",
       "    </tr>\n",
       "    <tr>\n",
       "      <th>273</th>\n",
       "      <td>7/18/2012</td>\n",
       "      <td>109.0</td>\n",
       "      <td>106.0</td>\n",
       "      <td>108.0</td>\n",
       "      <td>72030.0</td>\n",
       "      <td>107.0</td>\n",
       "    </tr>\n",
       "    <tr>\n",
       "      <th>274</th>\n",
       "      <td>7/19/2012</td>\n",
       "      <td>106.0</td>\n",
       "      <td>104.0</td>\n",
       "      <td>104.0</td>\n",
       "      <td>31340.0</td>\n",
       "      <td>108.0</td>\n",
       "    </tr>\n",
       "    <tr>\n",
       "      <th>275</th>\n",
       "      <td>7/22/2012</td>\n",
       "      <td>110.0</td>\n",
       "      <td>106.0</td>\n",
       "      <td>109.0</td>\n",
       "      <td>232132.0</td>\n",
       "      <td>104.0</td>\n",
       "    </tr>\n",
       "    <tr>\n",
       "      <th>276</th>\n",
       "      <td>7/23/2012</td>\n",
       "      <td>109.0</td>\n",
       "      <td>105.0</td>\n",
       "      <td>107.0</td>\n",
       "      <td>243920.0</td>\n",
       "      <td>109.0</td>\n",
       "    </tr>\n",
       "  </tbody>\n",
       "</table>\n",
       "</div>"
      ],
      "text/plain": [
       "          date   high    low  close    volume   open\n",
       "272  7/17/2012  107.0  103.0  107.0  270442.0  102.0\n",
       "273  7/18/2012  109.0  106.0  108.0   72030.0  107.0\n",
       "274  7/19/2012  106.0  104.0  104.0   31340.0  108.0\n",
       "275  7/22/2012  110.0  106.0  109.0  232132.0  104.0\n",
       "276  7/23/2012  109.0  105.0  107.0  243920.0  109.0"
      ]
     },
     "execution_count": 135,
     "metadata": {},
     "output_type": "execute_result"
    }
   ],
   "source": [
    "df = pd.read_csv(\"AFL.csv\")\n",
    "df.tail()"
   ]
  },
  {
   "cell_type": "code",
   "execution_count": 136,
   "metadata": {},
   "outputs": [
    {
     "name": "stdout",
     "output_type": "stream",
     "text": [
      "            close\n",
      "date             \n",
      "2012-06-14  130.0\n",
      "2012-07-02  128.0\n",
      "2012-07-03  123.0\n",
      "2012-07-15  111.0\n",
      "2012-07-16  102.0\n",
      "2012-07-17  107.0\n",
      "2012-07-18  108.0\n",
      "2012-07-19  104.0\n",
      "2012-07-22  109.0\n",
      "2012-07-23  107.0\n"
     ]
    },
    {
     "data": {
      "text/plain": [
       "1108"
      ]
     },
     "execution_count": 136,
     "metadata": {},
     "output_type": "execute_result"
    }
   ],
   "source": [
    "df['date'] = pd.to_datetime(df['date'])\n",
    "df.index = df['date']\n",
    "df = df.drop(columns=['date'])\n",
    "df = df.drop(columns=['volume'])\n",
    "df_close = pd.DataFrame(df['close'])\n",
    "print(df_close.tail(10))\n",
    "\n",
    "df.size\n"
   ]
  },
  {
   "cell_type": "code",
   "execution_count": 137,
   "metadata": {},
   "outputs": [
    {
     "name": "stdout",
     "output_type": "stream",
     "text": [
      "3\n"
     ]
    },
    {
     "data": {
      "text/html": [
       "<div>\n",
       "<style scoped>\n",
       "    .dataframe tbody tr th:only-of-type {\n",
       "        vertical-align: middle;\n",
       "    }\n",
       "\n",
       "    .dataframe tbody tr th {\n",
       "        vertical-align: top;\n",
       "    }\n",
       "\n",
       "    .dataframe thead th {\n",
       "        text-align: right;\n",
       "    }\n",
       "</style>\n",
       "<table border=\"1\" class=\"dataframe\">\n",
       "  <thead>\n",
       "    <tr style=\"text-align: right;\">\n",
       "      <th></th>\n",
       "      <th>high</th>\n",
       "      <th>low</th>\n",
       "      <th>close</th>\n",
       "      <th>open</th>\n",
       "      <th>label</th>\n",
       "    </tr>\n",
       "    <tr>\n",
       "      <th>date</th>\n",
       "      <th></th>\n",
       "      <th></th>\n",
       "      <th></th>\n",
       "      <th></th>\n",
       "      <th></th>\n",
       "    </tr>\n",
       "  </thead>\n",
       "  <tbody>\n",
       "    <tr>\n",
       "      <th>2010-04-15</th>\n",
       "      <td>247.0</td>\n",
       "      <td>240.0</td>\n",
       "      <td>240.0</td>\n",
       "      <td>243.0</td>\n",
       "      <td>240.0</td>\n",
       "    </tr>\n",
       "    <tr>\n",
       "      <th>2010-04-20</th>\n",
       "      <td>240.0</td>\n",
       "      <td>236.0</td>\n",
       "      <td>240.0</td>\n",
       "      <td>240.0</td>\n",
       "      <td>236.0</td>\n",
       "    </tr>\n",
       "    <tr>\n",
       "      <th>2010-04-25</th>\n",
       "      <td>240.0</td>\n",
       "      <td>240.0</td>\n",
       "      <td>240.0</td>\n",
       "      <td>240.0</td>\n",
       "      <td>240.0</td>\n",
       "    </tr>\n",
       "    <tr>\n",
       "      <th>2010-04-27</th>\n",
       "      <td>240.0</td>\n",
       "      <td>240.0</td>\n",
       "      <td>240.0</td>\n",
       "      <td>240.0</td>\n",
       "      <td>225.0</td>\n",
       "    </tr>\n",
       "    <tr>\n",
       "      <th>2010-04-28</th>\n",
       "      <td>240.0</td>\n",
       "      <td>236.0</td>\n",
       "      <td>236.0</td>\n",
       "      <td>240.0</td>\n",
       "      <td>226.0</td>\n",
       "    </tr>\n",
       "    <tr>\n",
       "      <th>...</th>\n",
       "      <td>...</td>\n",
       "      <td>...</td>\n",
       "      <td>...</td>\n",
       "      <td>...</td>\n",
       "      <td>...</td>\n",
       "    </tr>\n",
       "    <tr>\n",
       "      <th>2012-07-17</th>\n",
       "      <td>107.0</td>\n",
       "      <td>103.0</td>\n",
       "      <td>107.0</td>\n",
       "      <td>102.0</td>\n",
       "      <td>109.0</td>\n",
       "    </tr>\n",
       "    <tr>\n",
       "      <th>2012-07-18</th>\n",
       "      <td>109.0</td>\n",
       "      <td>106.0</td>\n",
       "      <td>108.0</td>\n",
       "      <td>107.0</td>\n",
       "      <td>107.0</td>\n",
       "    </tr>\n",
       "    <tr>\n",
       "      <th>2012-07-19</th>\n",
       "      <td>106.0</td>\n",
       "      <td>104.0</td>\n",
       "      <td>104.0</td>\n",
       "      <td>108.0</td>\n",
       "      <td>NaN</td>\n",
       "    </tr>\n",
       "    <tr>\n",
       "      <th>2012-07-22</th>\n",
       "      <td>110.0</td>\n",
       "      <td>106.0</td>\n",
       "      <td>109.0</td>\n",
       "      <td>104.0</td>\n",
       "      <td>NaN</td>\n",
       "    </tr>\n",
       "    <tr>\n",
       "      <th>2012-07-23</th>\n",
       "      <td>109.0</td>\n",
       "      <td>105.0</td>\n",
       "      <td>107.0</td>\n",
       "      <td>109.0</td>\n",
       "      <td>NaN</td>\n",
       "    </tr>\n",
       "  </tbody>\n",
       "</table>\n",
       "<p>277 rows × 5 columns</p>\n",
       "</div>"
      ],
      "text/plain": [
       "             high    low  close   open  label\n",
       "date                                         \n",
       "2010-04-15  247.0  240.0  240.0  243.0  240.0\n",
       "2010-04-20  240.0  236.0  240.0  240.0  236.0\n",
       "2010-04-25  240.0  240.0  240.0  240.0  240.0\n",
       "2010-04-27  240.0  240.0  240.0  240.0  225.0\n",
       "2010-04-28  240.0  236.0  236.0  240.0  226.0\n",
       "...           ...    ...    ...    ...    ...\n",
       "2012-07-17  107.0  103.0  107.0  102.0  109.0\n",
       "2012-07-18  109.0  106.0  108.0  107.0  107.0\n",
       "2012-07-19  106.0  104.0  104.0  108.0    NaN\n",
       "2012-07-22  110.0  106.0  109.0  104.0    NaN\n",
       "2012-07-23  109.0  105.0  107.0  109.0    NaN\n",
       "\n",
       "[277 rows x 5 columns]"
      ]
     },
     "execution_count": 137,
     "metadata": {},
     "output_type": "execute_result"
    }
   ],
   "source": [
    "forecast_col = 'close'\n",
    "df.fillna(-99999, inplace=True)\n",
    "\n",
    "forecast_out = int(math.ceil(0.01*len(df)))\n",
    "print(forecast_out)\n",
    "\n",
    "df['label'] = df[forecast_col].shift(-forecast_out)\n",
    "df"
   ]
  },
  {
   "cell_type": "code",
   "execution_count": 139,
   "metadata": {},
   "outputs": [],
   "source": [
    "# df.dropna(inplace=True)\n"
   ]
  },
  {
   "cell_type": "code",
   "execution_count": 140,
   "metadata": {},
   "outputs": [
    {
     "name": "stdout",
     "output_type": "stream",
     "text": [
      "0.978239562609021 8.137002242633415e-188\n",
      "0.9770936487687685 8.090109416040081e-185\n",
      "0.9792781225961855 1.128673512821417e-190\n",
      "0.9714012747716447 7.068307514909616e-172\n"
     ]
    }
   ],
   "source": [
    "pearson_coeff, p_value = sci.pearsonr(df[\"high\"], df[\"label\"])\n",
    "print(pearson_coeff, p_value)\n",
    "pearson_coeff, p_value = sci.pearsonr(df[\"low\"], df[\"label\"])\n",
    "print(pearson_coeff, p_value)\n",
    "pearson_coeff, p_value = sci.pearsonr(df[\"close\"], df[\"label\"])\n",
    "print(pearson_coeff, p_value)\n",
    "pearson_coeff, p_value = sci.pearsonr(df[\"open\"], df[\"label\"])\n",
    "print(pearson_coeff, p_value)"
   ]
  },
  {
   "cell_type": "code",
   "execution_count": null,
   "metadata": {},
   "outputs": [],
   "source": []
  },
  {
   "cell_type": "code",
   "execution_count": null,
   "metadata": {},
   "outputs": [],
   "source": [
    "   "
   ]
  },
  {
   "cell_type": "code",
   "execution_count": null,
   "metadata": {},
   "outputs": [],
   "source": []
  },
  {
   "cell_type": "code",
   "execution_count": null,
   "metadata": {},
   "outputs": [],
   "source": []
  },
  {
   "cell_type": "code",
   "execution_count": null,
   "metadata": {},
   "outputs": [],
   "source": []
  },
  {
   "cell_type": "code",
   "execution_count": null,
   "metadata": {},
   "outputs": [],
   "source": []
  },
  {
   "cell_type": "code",
   "execution_count": null,
   "metadata": {},
   "outputs": [],
   "source": []
  },
  {
   "cell_type": "code",
   "execution_count": 141,
   "metadata": {},
   "outputs": [
    {
     "data": {
      "text/plain": [
       "<matplotlib.axes._subplots.AxesSubplot at 0x7f52f2eb5bd0>"
      ]
     },
     "execution_count": 141,
     "metadata": {},
     "output_type": "execute_result"
    },
    {
     "ename": "TypeError",
     "evalue": "Object of type ndarray is not JSON serializable",
     "output_type": "error",
     "traceback": [
      "\u001b[0;31m---------------------------------------------------------------------------\u001b[0m",
      "\u001b[0;31mTypeError\u001b[0m                                 Traceback (most recent call last)",
      "\u001b[0;32m~/anaconda3/lib/python3.7/site-packages/IPython/core/formatters.py\u001b[0m in \u001b[0;36m__call__\u001b[0;34m(self, obj)\u001b[0m\n\u001b[1;32m    339\u001b[0m                 \u001b[0;32mpass\u001b[0m\u001b[0;34m\u001b[0m\u001b[0;34m\u001b[0m\u001b[0m\n\u001b[1;32m    340\u001b[0m             \u001b[0;32melse\u001b[0m\u001b[0;34m:\u001b[0m\u001b[0;34m\u001b[0m\u001b[0;34m\u001b[0m\u001b[0m\n\u001b[0;32m--> 341\u001b[0;31m                 \u001b[0;32mreturn\u001b[0m \u001b[0mprinter\u001b[0m\u001b[0;34m(\u001b[0m\u001b[0mobj\u001b[0m\u001b[0;34m)\u001b[0m\u001b[0;34m\u001b[0m\u001b[0;34m\u001b[0m\u001b[0m\n\u001b[0m\u001b[1;32m    342\u001b[0m             \u001b[0;31m# Finally look for special method names\u001b[0m\u001b[0;34m\u001b[0m\u001b[0;34m\u001b[0m\u001b[0;34m\u001b[0m\u001b[0m\n\u001b[1;32m    343\u001b[0m             \u001b[0mmethod\u001b[0m \u001b[0;34m=\u001b[0m \u001b[0mget_real_method\u001b[0m\u001b[0;34m(\u001b[0m\u001b[0mobj\u001b[0m\u001b[0;34m,\u001b[0m \u001b[0mself\u001b[0m\u001b[0;34m.\u001b[0m\u001b[0mprint_method\u001b[0m\u001b[0;34m)\u001b[0m\u001b[0;34m\u001b[0m\u001b[0;34m\u001b[0m\u001b[0m\n",
      "\u001b[0;32m~/anaconda3/lib/python3.7/site-packages/mpld3/_display.py\u001b[0m in \u001b[0;36m<lambda>\u001b[0;34m(fig, kwds)\u001b[0m\n\u001b[1;32m    408\u001b[0m     \u001b[0mformatter\u001b[0m \u001b[0;34m=\u001b[0m \u001b[0mip\u001b[0m\u001b[0;34m.\u001b[0m\u001b[0mdisplay_formatter\u001b[0m\u001b[0;34m.\u001b[0m\u001b[0mformatters\u001b[0m\u001b[0;34m[\u001b[0m\u001b[0;34m'text/html'\u001b[0m\u001b[0;34m]\u001b[0m\u001b[0;34m\u001b[0m\u001b[0;34m\u001b[0m\u001b[0m\n\u001b[1;32m    409\u001b[0m     formatter.for_type(Figure,\n\u001b[0;32m--> 410\u001b[0;31m                        lambda fig, kwds=kwargs: fig_to_html(fig, **kwds))\n\u001b[0m\u001b[1;32m    411\u001b[0m \u001b[0;34m\u001b[0m\u001b[0m\n\u001b[1;32m    412\u001b[0m \u001b[0;34m\u001b[0m\u001b[0m\n",
      "\u001b[0;32m~/anaconda3/lib/python3.7/site-packages/mpld3/_display.py\u001b[0m in \u001b[0;36mfig_to_html\u001b[0;34m(fig, d3_url, mpld3_url, no_extras, template_type, figid, use_http, **kwargs)\u001b[0m\n\u001b[1;32m    249\u001b[0m                            \u001b[0md3_url\u001b[0m\u001b[0;34m=\u001b[0m\u001b[0md3_url\u001b[0m\u001b[0;34m,\u001b[0m\u001b[0;34m\u001b[0m\u001b[0;34m\u001b[0m\u001b[0m\n\u001b[1;32m    250\u001b[0m                            \u001b[0mmpld3_url\u001b[0m\u001b[0;34m=\u001b[0m\u001b[0mmpld3_url\u001b[0m\u001b[0;34m,\u001b[0m\u001b[0;34m\u001b[0m\u001b[0;34m\u001b[0m\u001b[0m\n\u001b[0;32m--> 251\u001b[0;31m                            \u001b[0mfigure_json\u001b[0m\u001b[0;34m=\u001b[0m\u001b[0mjson\u001b[0m\u001b[0;34m.\u001b[0m\u001b[0mdumps\u001b[0m\u001b[0;34m(\u001b[0m\u001b[0mfigure_json\u001b[0m\u001b[0;34m,\u001b[0m \u001b[0mcls\u001b[0m\u001b[0;34m=\u001b[0m\u001b[0mNumpyEncoder\u001b[0m\u001b[0;34m)\u001b[0m\u001b[0;34m,\u001b[0m\u001b[0;34m\u001b[0m\u001b[0;34m\u001b[0m\u001b[0m\n\u001b[0m\u001b[1;32m    252\u001b[0m                            \u001b[0mextra_css\u001b[0m\u001b[0;34m=\u001b[0m\u001b[0mextra_css\u001b[0m\u001b[0;34m,\u001b[0m\u001b[0;34m\u001b[0m\u001b[0;34m\u001b[0m\u001b[0m\n\u001b[1;32m    253\u001b[0m                            extra_js=extra_js)\n",
      "\u001b[0;32m~/anaconda3/lib/python3.7/json/__init__.py\u001b[0m in \u001b[0;36mdumps\u001b[0;34m(obj, skipkeys, ensure_ascii, check_circular, allow_nan, cls, indent, separators, default, sort_keys, **kw)\u001b[0m\n\u001b[1;32m    236\u001b[0m         \u001b[0mcheck_circular\u001b[0m\u001b[0;34m=\u001b[0m\u001b[0mcheck_circular\u001b[0m\u001b[0;34m,\u001b[0m \u001b[0mallow_nan\u001b[0m\u001b[0;34m=\u001b[0m\u001b[0mallow_nan\u001b[0m\u001b[0;34m,\u001b[0m \u001b[0mindent\u001b[0m\u001b[0;34m=\u001b[0m\u001b[0mindent\u001b[0m\u001b[0;34m,\u001b[0m\u001b[0;34m\u001b[0m\u001b[0;34m\u001b[0m\u001b[0m\n\u001b[1;32m    237\u001b[0m         \u001b[0mseparators\u001b[0m\u001b[0;34m=\u001b[0m\u001b[0mseparators\u001b[0m\u001b[0;34m,\u001b[0m \u001b[0mdefault\u001b[0m\u001b[0;34m=\u001b[0m\u001b[0mdefault\u001b[0m\u001b[0;34m,\u001b[0m \u001b[0msort_keys\u001b[0m\u001b[0;34m=\u001b[0m\u001b[0msort_keys\u001b[0m\u001b[0;34m,\u001b[0m\u001b[0;34m\u001b[0m\u001b[0;34m\u001b[0m\u001b[0m\n\u001b[0;32m--> 238\u001b[0;31m         **kw).encode(obj)\n\u001b[0m\u001b[1;32m    239\u001b[0m \u001b[0;34m\u001b[0m\u001b[0m\n\u001b[1;32m    240\u001b[0m \u001b[0;34m\u001b[0m\u001b[0m\n",
      "\u001b[0;32m~/anaconda3/lib/python3.7/json/encoder.py\u001b[0m in \u001b[0;36mencode\u001b[0;34m(self, o)\u001b[0m\n\u001b[1;32m    197\u001b[0m         \u001b[0;31m# exceptions aren't as detailed.  The list call should be roughly\u001b[0m\u001b[0;34m\u001b[0m\u001b[0;34m\u001b[0m\u001b[0;34m\u001b[0m\u001b[0m\n\u001b[1;32m    198\u001b[0m         \u001b[0;31m# equivalent to the PySequence_Fast that ''.join() would do.\u001b[0m\u001b[0;34m\u001b[0m\u001b[0;34m\u001b[0m\u001b[0;34m\u001b[0m\u001b[0m\n\u001b[0;32m--> 199\u001b[0;31m         \u001b[0mchunks\u001b[0m \u001b[0;34m=\u001b[0m \u001b[0mself\u001b[0m\u001b[0;34m.\u001b[0m\u001b[0miterencode\u001b[0m\u001b[0;34m(\u001b[0m\u001b[0mo\u001b[0m\u001b[0;34m,\u001b[0m \u001b[0m_one_shot\u001b[0m\u001b[0;34m=\u001b[0m\u001b[0;32mTrue\u001b[0m\u001b[0;34m)\u001b[0m\u001b[0;34m\u001b[0m\u001b[0;34m\u001b[0m\u001b[0m\n\u001b[0m\u001b[1;32m    200\u001b[0m         \u001b[0;32mif\u001b[0m \u001b[0;32mnot\u001b[0m \u001b[0misinstance\u001b[0m\u001b[0;34m(\u001b[0m\u001b[0mchunks\u001b[0m\u001b[0;34m,\u001b[0m \u001b[0;34m(\u001b[0m\u001b[0mlist\u001b[0m\u001b[0;34m,\u001b[0m \u001b[0mtuple\u001b[0m\u001b[0;34m)\u001b[0m\u001b[0;34m)\u001b[0m\u001b[0;34m:\u001b[0m\u001b[0;34m\u001b[0m\u001b[0;34m\u001b[0m\u001b[0m\n\u001b[1;32m    201\u001b[0m             \u001b[0mchunks\u001b[0m \u001b[0;34m=\u001b[0m \u001b[0mlist\u001b[0m\u001b[0;34m(\u001b[0m\u001b[0mchunks\u001b[0m\u001b[0;34m)\u001b[0m\u001b[0;34m\u001b[0m\u001b[0;34m\u001b[0m\u001b[0m\n",
      "\u001b[0;32m~/anaconda3/lib/python3.7/json/encoder.py\u001b[0m in \u001b[0;36miterencode\u001b[0;34m(self, o, _one_shot)\u001b[0m\n\u001b[1;32m    255\u001b[0m                 \u001b[0mself\u001b[0m\u001b[0;34m.\u001b[0m\u001b[0mkey_separator\u001b[0m\u001b[0;34m,\u001b[0m \u001b[0mself\u001b[0m\u001b[0;34m.\u001b[0m\u001b[0mitem_separator\u001b[0m\u001b[0;34m,\u001b[0m \u001b[0mself\u001b[0m\u001b[0;34m.\u001b[0m\u001b[0msort_keys\u001b[0m\u001b[0;34m,\u001b[0m\u001b[0;34m\u001b[0m\u001b[0;34m\u001b[0m\u001b[0m\n\u001b[1;32m    256\u001b[0m                 self.skipkeys, _one_shot)\n\u001b[0;32m--> 257\u001b[0;31m         \u001b[0;32mreturn\u001b[0m \u001b[0m_iterencode\u001b[0m\u001b[0;34m(\u001b[0m\u001b[0mo\u001b[0m\u001b[0;34m,\u001b[0m \u001b[0;36m0\u001b[0m\u001b[0;34m)\u001b[0m\u001b[0;34m\u001b[0m\u001b[0;34m\u001b[0m\u001b[0m\n\u001b[0m\u001b[1;32m    258\u001b[0m \u001b[0;34m\u001b[0m\u001b[0m\n\u001b[1;32m    259\u001b[0m def _make_iterencode(markers, _default, _encoder, _indent, _floatstr,\n",
      "\u001b[0;32m~/anaconda3/lib/python3.7/site-packages/mpld3/_display.py\u001b[0m in \u001b[0;36mdefault\u001b[0;34m(self, obj)\u001b[0m\n\u001b[1;32m    136\u001b[0m             numpy.float64)):\n\u001b[1;32m    137\u001b[0m             \u001b[0;32mreturn\u001b[0m \u001b[0mfloat\u001b[0m\u001b[0;34m(\u001b[0m\u001b[0mobj\u001b[0m\u001b[0;34m)\u001b[0m\u001b[0;34m\u001b[0m\u001b[0;34m\u001b[0m\u001b[0m\n\u001b[0;32m--> 138\u001b[0;31m         \u001b[0;32mreturn\u001b[0m \u001b[0mjson\u001b[0m\u001b[0;34m.\u001b[0m\u001b[0mJSONEncoder\u001b[0m\u001b[0;34m.\u001b[0m\u001b[0mdefault\u001b[0m\u001b[0;34m(\u001b[0m\u001b[0mself\u001b[0m\u001b[0;34m,\u001b[0m \u001b[0mobj\u001b[0m\u001b[0;34m)\u001b[0m\u001b[0;34m\u001b[0m\u001b[0;34m\u001b[0m\u001b[0m\n\u001b[0m\u001b[1;32m    139\u001b[0m \u001b[0;34m\u001b[0m\u001b[0m\n\u001b[1;32m    140\u001b[0m \u001b[0;34m\u001b[0m\u001b[0m\n",
      "\u001b[0;32m~/anaconda3/lib/python3.7/json/encoder.py\u001b[0m in \u001b[0;36mdefault\u001b[0;34m(self, o)\u001b[0m\n\u001b[1;32m    177\u001b[0m \u001b[0;34m\u001b[0m\u001b[0m\n\u001b[1;32m    178\u001b[0m         \"\"\"\n\u001b[0;32m--> 179\u001b[0;31m         raise TypeError(f'Object of type {o.__class__.__name__} '\n\u001b[0m\u001b[1;32m    180\u001b[0m                         f'is not JSON serializable')\n\u001b[1;32m    181\u001b[0m \u001b[0;34m\u001b[0m\u001b[0m\n",
      "\u001b[0;31mTypeError\u001b[0m: Object of type ndarray is not JSON serializable"
     ]
    },
    {
     "data": {
      "image/png": "[encoded data removed]",
      "text/plain": [
       "<Figure size 432x288 with 2 Axes>"
      ]
     },
     "metadata": {},
     "output_type": "display_data"
    }
   ],
   "source": [
    "corr = df.corr()\n",
    "sns.heatmap(corr)"
   ]
  },
  {
   "cell_type": "code",
   "execution_count": null,
   "metadata": {},
   "outputs": [],
   "source": []
  },
  {
   "cell_type": "code",
   "execution_count": 142,
   "metadata": {},
   "outputs": [
    {
     "name": "stdout",
     "output_type": "stream",
     "text": [
      "271 274\n",
      "[[-1.29814988 -1.40899455 -1.40368717 -1.25699185]\n",
      " [-1.33263966 -1.37423118 -1.3172268  -1.41267172]\n",
      " [-1.29814988 -1.32208614 -1.29993473 -1.32618291]]\n",
      "[[ 1.08164471  1.00705904  0.98261888  1.02631292]\n",
      " [ 0.9609305   0.93753232  0.98261888  0.97441963]\n",
      " [ 0.9609305   1.00705904  0.98261888  0.97441963]\n",
      " ...\n",
      " [-0.970497   -0.93968917 -0.95409327 -0.92833435]\n",
      " [-1.00498678 -1.02659757 -1.04055364 -0.96292987]\n",
      " [-1.09121122 -1.23517774 -1.24805851 -1.04941869]]\n",
      "[240. 236. 240. 225. 226. 222. 230. 230. 226. 221. 243. 251. 265. 290.\n",
      " 300. 289. 284. 279. 284. 289. 294. 294. 289. 284. 283. 278. 278. 275.\n",
      " 265. 264. 251. 235. 236. 235. 235. 231. 243. 233. 234. 237. 233. 230.\n",
      " 232. 236. 240. 240. 242. 242. 242. 244. 248. 249. 250. 247. 244. 232.\n",
      " 236. 233. 236. 233. 233. 218. 219. 226. 226. 230. 227. 227. 223. 223.\n",
      " 219. 222. 222. 222. 226. 226. 230. 234. 234. 234. 238. 242. 243. 252.\n",
      " 262. 265. 263. 265. 260. 260. 255. 252. 252. 251. 251. 247. 243. 236.\n",
      " 232. 229. 225. 229. 223. 219. 220. 224. 220. 209. 210. 206. 209. 202.\n",
      " 206. 205. 199. 205. 203. 207. 213. 219. 218. 215. 212. 224. 224. 225.\n",
      " 226. 230. 238. 241. 174. 174. 179. 173. 173. 176. 168. 165. 162. 159.\n",
      " 156. 159. 159. 159. 156. 153. 150. 147. 150. 157. 154. 153. 153. 153.\n",
      " 153. 150. 160. 158. 165. 164. 161. 155. 140. 136. 136. 124. 123. 125.\n",
      " 125. 136. 127. 127. 129. 127. 123. 128. 126. 125. 123. 125. 129. 129.\n",
      " 127. 125. 126. 128. 130. 130. 130. 131. 128. 125. 122. 121. 123. 125.\n",
      " 133. 134. 132. 131. 132. 130. 128. 129. 127. 127. 125. 125. 128. 128.\n",
      " 128. 126. 124. 122. 122. 120. 122. 126. 124. 125. 121. 133. 127. 126.\n",
      " 126. 127. 125. 120. 120. 116. 118. 116. 116. 115. 113. 113. 107. 107.\n",
      " 108. 110. 112. 112. 111. 110. 112. 116. 112. 108. 106. 106. 100. 100.\n",
      " 100. 105. 107. 107. 115. 116. 118. 124. 130. 134. 136. 132. 130. 128.\n",
      " 123. 111. 102. 107. 108. 104. 109. 107.]\n"
     ]
    }
   ],
   "source": [
    "#Defining Features & Labels\n",
    "X = np.array(df.drop(['label'], 1))\n",
    "X = preprocessing.scale(X)\n",
    "# X = preprocessing.normalize(X)\n",
    "X_lately = X[-forecast_out:]\n",
    "X = X[:-forecast_out]\n",
    "\n",
    "df.dropna(inplace=True)\n",
    "\n",
    "y = np.array(df['label'])\n",
    "\n",
    "print(len(X), len(y))\n",
    "print(X_lately)\n",
    "print(X)\n",
    "print(y)"
   ]
  },
  {
   "cell_type": "code",
   "execution_count": 143,
   "metadata": {},
   "outputs": [
    {
     "ename": "ValueError",
     "evalue": "Found input variables with inconsistent numbers of samples: [271, 274]",
     "output_type": "error",
     "traceback": [
      "\u001b[0;31m---------------------------------------------------------------------------\u001b[0m",
      "\u001b[0;31mValueError\u001b[0m                                Traceback (most recent call last)",
      "\u001b[0;32m<ipython-input-143-2900e6540bb7>\u001b[0m in \u001b[0;36m<module>\u001b[0;34m\u001b[0m\n\u001b[0;32m----> 1\u001b[0;31m \u001b[0mX_train\u001b[0m\u001b[0;34m,\u001b[0m \u001b[0mX_test\u001b[0m\u001b[0;34m,\u001b[0m \u001b[0my_train\u001b[0m\u001b[0;34m,\u001b[0m \u001b[0my_test\u001b[0m \u001b[0;34m=\u001b[0m \u001b[0mtrain_test_split\u001b[0m\u001b[0;34m(\u001b[0m\u001b[0mX\u001b[0m\u001b[0;34m,\u001b[0m \u001b[0my\u001b[0m\u001b[0;34m,\u001b[0m \u001b[0mtest_size\u001b[0m\u001b[0;34m=\u001b[0m\u001b[0;36m0.2\u001b[0m\u001b[0;34m,\u001b[0m \u001b[0mrandom_state\u001b[0m \u001b[0;34m=\u001b[0m \u001b[0;36m0\u001b[0m\u001b[0;34m)\u001b[0m\u001b[0;34m\u001b[0m\u001b[0;34m\u001b[0m\u001b[0m\n\u001b[0m\u001b[1;32m      2\u001b[0m \u001b[0mclf\u001b[0m \u001b[0;34m=\u001b[0m \u001b[0mLinearRegression\u001b[0m\u001b[0;34m(\u001b[0m\u001b[0;34m)\u001b[0m\u001b[0;34m\u001b[0m\u001b[0;34m\u001b[0m\u001b[0m\n\u001b[1;32m      3\u001b[0m \u001b[0mclf\u001b[0m\u001b[0;34m.\u001b[0m\u001b[0mfit\u001b[0m\u001b[0;34m(\u001b[0m\u001b[0mX_train\u001b[0m\u001b[0;34m,\u001b[0m \u001b[0my_train\u001b[0m\u001b[0;34m)\u001b[0m\u001b[0;34m\u001b[0m\u001b[0;34m\u001b[0m\u001b[0m\n\u001b[1;32m      4\u001b[0m \u001b[0my_pred\u001b[0m \u001b[0;34m=\u001b[0m \u001b[0mclf\u001b[0m\u001b[0;34m.\u001b[0m\u001b[0mpredict\u001b[0m\u001b[0;34m(\u001b[0m\u001b[0mX_test\u001b[0m\u001b[0;34m)\u001b[0m\u001b[0;34m\u001b[0m\u001b[0;34m\u001b[0m\u001b[0m\n\u001b[1;32m      5\u001b[0m \u001b[0mprint\u001b[0m\u001b[0;34m(\u001b[0m\u001b[0my_pred\u001b[0m\u001b[0;34m)\u001b[0m\u001b[0;34m\u001b[0m\u001b[0;34m\u001b[0m\u001b[0m\n",
      "\u001b[0;32m~/anaconda3/lib/python3.7/site-packages/sklearn/model_selection/_split.py\u001b[0m in \u001b[0;36mtrain_test_split\u001b[0;34m(*arrays, **options)\u001b[0m\n\u001b[1;32m   2116\u001b[0m         \u001b[0;32mraise\u001b[0m \u001b[0mTypeError\u001b[0m\u001b[0;34m(\u001b[0m\u001b[0;34m\"Invalid parameters passed: %s\"\u001b[0m \u001b[0;34m%\u001b[0m \u001b[0mstr\u001b[0m\u001b[0;34m(\u001b[0m\u001b[0moptions\u001b[0m\u001b[0;34m)\u001b[0m\u001b[0;34m)\u001b[0m\u001b[0;34m\u001b[0m\u001b[0;34m\u001b[0m\u001b[0m\n\u001b[1;32m   2117\u001b[0m \u001b[0;34m\u001b[0m\u001b[0m\n\u001b[0;32m-> 2118\u001b[0;31m     \u001b[0marrays\u001b[0m \u001b[0;34m=\u001b[0m \u001b[0mindexable\u001b[0m\u001b[0;34m(\u001b[0m\u001b[0;34m*\u001b[0m\u001b[0marrays\u001b[0m\u001b[0;34m)\u001b[0m\u001b[0;34m\u001b[0m\u001b[0;34m\u001b[0m\u001b[0m\n\u001b[0m\u001b[1;32m   2119\u001b[0m \u001b[0;34m\u001b[0m\u001b[0m\n\u001b[1;32m   2120\u001b[0m     \u001b[0mn_samples\u001b[0m \u001b[0;34m=\u001b[0m \u001b[0m_num_samples\u001b[0m\u001b[0;34m(\u001b[0m\u001b[0marrays\u001b[0m\u001b[0;34m[\u001b[0m\u001b[0;36m0\u001b[0m\u001b[0;34m]\u001b[0m\u001b[0;34m)\u001b[0m\u001b[0;34m\u001b[0m\u001b[0;34m\u001b[0m\u001b[0m\n",
      "\u001b[0;32m~/anaconda3/lib/python3.7/site-packages/sklearn/utils/validation.py\u001b[0m in \u001b[0;36mindexable\u001b[0;34m(*iterables)\u001b[0m\n\u001b[1;32m    246\u001b[0m     \"\"\"\n\u001b[1;32m    247\u001b[0m     \u001b[0mresult\u001b[0m \u001b[0;34m=\u001b[0m \u001b[0;34m[\u001b[0m\u001b[0m_make_indexable\u001b[0m\u001b[0;34m(\u001b[0m\u001b[0mX\u001b[0m\u001b[0;34m)\u001b[0m \u001b[0;32mfor\u001b[0m \u001b[0mX\u001b[0m \u001b[0;32min\u001b[0m \u001b[0miterables\u001b[0m\u001b[0;34m]\u001b[0m\u001b[0;34m\u001b[0m\u001b[0;34m\u001b[0m\u001b[0m\n\u001b[0;32m--> 248\u001b[0;31m     \u001b[0mcheck_consistent_length\u001b[0m\u001b[0;34m(\u001b[0m\u001b[0;34m*\u001b[0m\u001b[0mresult\u001b[0m\u001b[0;34m)\u001b[0m\u001b[0;34m\u001b[0m\u001b[0;34m\u001b[0m\u001b[0m\n\u001b[0m\u001b[1;32m    249\u001b[0m     \u001b[0;32mreturn\u001b[0m \u001b[0mresult\u001b[0m\u001b[0;34m\u001b[0m\u001b[0;34m\u001b[0m\u001b[0m\n\u001b[1;32m    250\u001b[0m \u001b[0;34m\u001b[0m\u001b[0m\n",
      "\u001b[0;32m~/anaconda3/lib/python3.7/site-packages/sklearn/utils/validation.py\u001b[0m in \u001b[0;36mcheck_consistent_length\u001b[0;34m(*arrays)\u001b[0m\n\u001b[1;32m    210\u001b[0m     \u001b[0;32mif\u001b[0m \u001b[0mlen\u001b[0m\u001b[0;34m(\u001b[0m\u001b[0muniques\u001b[0m\u001b[0;34m)\u001b[0m \u001b[0;34m>\u001b[0m \u001b[0;36m1\u001b[0m\u001b[0;34m:\u001b[0m\u001b[0;34m\u001b[0m\u001b[0;34m\u001b[0m\u001b[0m\n\u001b[1;32m    211\u001b[0m         raise ValueError(\"Found input variables with inconsistent numbers of\"\n\u001b[0;32m--> 212\u001b[0;31m                          \" samples: %r\" % [int(l) for l in lengths])\n\u001b[0m\u001b[1;32m    213\u001b[0m \u001b[0;34m\u001b[0m\u001b[0m\n\u001b[1;32m    214\u001b[0m \u001b[0;34m\u001b[0m\u001b[0m\n",
      "\u001b[0;31mValueError\u001b[0m: Found input variables with inconsistent numbers of samples: [271, 274]"
     ]
    }
   ],
   "source": [
    "X_train, X_test, y_train, y_test = train_test_split(X, y, test_size=0.2, random_state = 0)\n",
    "clf = LinearRegression() \n",
    "clf.fit(X_train, y_train)\n",
    "y_pred = clf.predict(X_test)\n",
    "print(y_pred)\n",
    "df_test = pd.DataFrame({'Actual': y_test, 'Predicted': y_pred})\n",
    "print(df_test.head(10))\n",
    "df_test.plot(figsize=(10,8))\n",
    "plt.grid(which='major', linewidth='0.5')\n",
    "plt.grid(which='minor', linewidth='0.5')\n",
    "plt.xlabel('no.of observation')\n",
    "plt.ylabel('price')\n",
    "plt.show()\n",
    "\n",
    "\n",
    "Accuracy = clf.score(X_test, y_test)\n",
    "print(\"The R^2 value is:\", Accuracy)\n",
    "\n",
    "\n",
    "\n",
    "\n",
    "# X_main=sm.add_constant(X_train)\n",
    "# model = sm.OLS(y_train, X_main).fit()\n",
    "# # y_pred = model.predict(X_test)\n",
    "# print(model.summary())"
   ]
  },
  {
   "cell_type": "code",
   "execution_count": null,
   "metadata": {},
   "outputs": [],
   "source": [
    "sns.pairplot(df, x_vars=['high','low','close', 'open'], y_vars='label', size=7, aspect=0.7)\n",
    "sns.pairplot(df, x_vars=['high','low','close', 'open'], y_vars='label', size=7, aspect=0.7, kind='reg')"
   ]
  },
  {
   "cell_type": "code",
   "execution_count": 129,
   "metadata": {},
   "outputs": [
    {
     "name": "stdout",
     "output_type": "stream",
     "text": [
      "3\n",
      "3 271 [100.74550558 108.23033541 107.92594702] 0.9791422158332116 3\n"
     ]
    },
    {
     "data": {
      "image/png": "[encoded data removed]",
      "text/html": [
       "\n",
       "\n",
       "<style>\n",
       "\n",
       "</style>\n",
       "\n",
       "<div id=\"fig_el180471399942448635042448413653\"></div>\n",
       "<script>\n",
       "function mpld3_load_lib(url, callback){\n",
       "  var s = document.createElement('script');\n",
       "  s.src = url;\n",
       "  s.async = true;\n",
       "  s.onreadystatechange = s.onload = callback;\n",
       "  s.onerror = function(){console.warn(\"failed to load library \" + url);};\n",
       "  document.getElementsByTagName(\"head\")[0].appendChild(s);\n",
       "}\n",
       "\n",
       "if(typeof(mpld3) !== \"undefined\" && mpld3._mpld3IsLoaded){\n",
       "   // already loaded: just create the figure\n",
       "   !function(mpld3){\n",
       "       \n",
       "       mpld3.draw_figure(\"fig_el180471399942448635042448413653\", {\"width\": 432.0, \"height\": 288.0, \"axes\": [{\"bbox\": [0.125, 0.20000000000000007, 0.775, 0.6799999999999999], \"xlim\": [733835.5, 734748.5], \"ylim\": [90.0, 310.0], \"xdomain\": [[2010, 2, 4, 12, 0, 0, 0.0], [2012, 8, 2, 12, 0, 0, 0.0]], \"ydomain\": [90.0, 310.0], \"xscale\": \"date\", \"yscale\": \"linear\", \"axes\": [{\"position\": \"bottom\", \"nticks\": 10, \"tickvalues\": null, \"tickformat\": null, \"scale\": \"linear\", \"fontsize\": 11.0, \"grid\": {\"gridOn\": true, \"color\": \"#FFFFFF\", \"dasharray\": \"none\", \"alpha\": 1.0}, \"visible\": true}, {\"position\": \"left\", \"nticks\": 7, \"tickvalues\": null, \"tickformat\": null, \"scale\": \"linear\", \"fontsize\": 11.0, \"grid\": {\"gridOn\": true, \"color\": \"#FFFFFF\", \"dasharray\": \"none\", \"alpha\": 1.0}, \"visible\": true}], \"axesbg\": \"#EAEAF2\", \"axesbgalpha\": null, \"zoomable\": true, \"id\": \"el18047139994257515344\", \"lines\": [{\"data\": \"data01\", \"xindex\": 0, \"yindex\": 1, \"coordinates\": \"data\", \"id\": \"el18047139994257543632\", \"color\": \"#4C72B0\", \"linewidth\": 1.5, \"dasharray\": \"none\", \"alpha\": 1, \"zorder\": 2, \"drawstyle\": \"default\"}, {\"data\": \"data02\", \"xindex\": 0, \"yindex\": 1, \"coordinates\": \"data\", \"id\": \"el18047139994237855696\", \"color\": \"#DD8452\", \"linewidth\": 1.5, \"dasharray\": \"none\", \"alpha\": 1, \"zorder\": 2, \"drawstyle\": \"default\"}, {\"data\": \"data03\", \"xindex\": 0, \"yindex\": 1, \"coordinates\": \"axes\", \"id\": \"el18047139994244695056\", \"color\": \"#4C72B0\", \"linewidth\": 1.5, \"dasharray\": \"none\", \"alpha\": 1, \"zorder\": 1000002.0, \"drawstyle\": \"default\"}, {\"data\": \"data03\", \"xindex\": 0, \"yindex\": 2, \"coordinates\": \"axes\", \"id\": \"el18047139994244735184\", \"color\": \"#DD8452\", \"linewidth\": 1.5, \"dasharray\": \"none\", \"alpha\": 1, \"zorder\": 1000002.0, \"drawstyle\": \"default\"}], \"paths\": [{\"data\": \"data04\", \"xindex\": 0, \"yindex\": 1, \"coordinates\": \"axes\", \"pathcodes\": [\"M\", \"L\", \"S\", \"L\", \"S\", \"L\", \"S\", \"L\", \"S\", \"Z\"], \"id\": \"el18047139994243297872\", \"dasharray\": \"none\", \"alpha\": 0.8, \"facecolor\": \"#EAEAF2\", \"edgecolor\": \"#CCCCCC\", \"edgewidth\": 1.0, \"zorder\": 1000000.0}], \"markers\": [], \"texts\": [{\"text\": \"index\", \"position\": [0.49999999999999994, -0.23027856432722832], \"coordinates\": \"axes\", \"h_anchor\": \"middle\", \"v_baseline\": \"hanging\", \"rotation\": -0.0, \"fontsize\": 12.0, \"color\": \"#262626\", \"alpha\": 1, \"zorder\": 3, \"id\": \"el18047139994257516944\"}, {\"text\": \"label\", \"position\": [-0.10304659498207885, 0.5], \"coordinates\": \"axes\", \"h_anchor\": \"middle\", \"v_baseline\": \"auto\", \"rotation\": -90.0, \"fontsize\": 12.0, \"color\": \"#262626\", \"alpha\": 1, \"zorder\": 3, \"id\": \"el18047139994257518032\"}, {\"text\": \"close\", \"position\": [0.8281810035842294, 0.9085988562091504], \"coordinates\": \"axes\", \"h_anchor\": \"start\", \"v_baseline\": \"auto\", \"rotation\": -0.0, \"fontsize\": 11.0, \"color\": \"#262626\", \"alpha\": 1, \"zorder\": 1000003.0, \"id\": \"el18047139994244736400\"}, {\"text\": \"Forecast\", \"position\": [0.8281810035842294, 0.8294526143790849], \"coordinates\": \"axes\", \"h_anchor\": \"start\", \"v_baseline\": \"auto\", \"rotation\": -0.0, \"fontsize\": 11.0, \"color\": \"#262626\", \"alpha\": 1, \"zorder\": 1000003.0, \"id\": \"el18047139994244694352\"}], \"collections\": [], \"images\": [], \"sharex\": [], \"sharey\": []}], \"data\": {\"data01\": [[733877.0, 240.0], [733882.0, 240.0], [733887.0, 240.0], [733889.0, 240.0], [733890.0, 236.0], [733891.0, 240.0], [733901.0, 225.0], [733903.0, 226.0], [733904.0, 222.0], [733905.0, 230.0], [733908.0, 230.0], [733909.0, 226.0], [733910.0, 221.0], [733916.0, 243.0], [733917.0, 251.0], [733918.0, 265.0], [733922.0, 290.0], [733923.0, 300.0], [733924.0, 289.0], [733926.0, 284.0], [733930.0, 279.0], [733931.0, 284.0], [733933.0, 289.0], [733936.0, 294.0], [733937.0, 294.0], [733939.0, 289.0], [733940.0, 284.0], [733943.0, 283.0], [733945.0, 278.0], [733946.0, 278.0], [733951.0, 275.0], [733959.0, 265.0], [733965.0, 264.0], [733967.0, 251.0], [733968.0, 235.0], [733971.0, 236.0], [733972.0, 235.0], [733973.0, 235.0], [733974.0, 231.0], [733975.0, 243.0], [733978.0, 233.0], [733979.0, 234.0], [733980.0, 237.0], [733981.0, 233.0], [733985.0, 230.0], [733986.0, 232.0], [733987.0, 236.0], [733988.0, 240.0], [733989.0, 240.0], [733992.0, 242.0], [733993.0, 242.0], [733994.0, 242.0], [733995.0, 244.0], [733996.0, 248.0], [734001.0, 249.0], [734002.0, 250.0], [734003.0, 247.0], [734006.0, 244.0], [734007.0, 232.0], [734010.0, 236.0], [734013.0, 233.0], [734014.0, 236.0], [734015.0, 233.0], [734017.0, 233.0], [734020.0, 218.0], [734021.0, 219.0], [734022.0, 226.0], [734024.0, 226.0], [734027.0, 230.0], [734028.0, 227.0], [734029.0, 227.0], [734031.0, 223.0], [734038.0, 223.0], [734041.0, 219.0], [734042.0, 222.0], [734043.0, 222.0], [734044.0, 222.0], [734045.0, 226.0], [734048.0, 226.0], [734050.0, 230.0], [734052.0, 234.0], [734057.0, 234.0], [734069.0, 234.0], [734071.0, 238.0], [734072.0, 242.0], [734073.0, 243.0], [734078.0, 252.0], [734079.0, 262.0], [734080.0, 265.0], [734085.0, 263.0], [734086.0, 265.0], [734087.0, 260.0], [734090.0, 260.0], [734092.0, 255.0], [734094.0, 252.0], [734097.0, 252.0], [734098.0, 251.0], [734099.0, 251.0], [734100.0, 247.0], [734101.0, 243.0], [734104.0, 236.0], [734106.0, 232.0], [734107.0, 229.0], [734108.0, 225.0], [734111.0, 229.0], [734112.0, 223.0], [734113.0, 219.0], [734115.0, 220.0], [734118.0, 224.0], [734119.0, 220.0], [734121.0, 209.0], [734125.0, 210.0], [734126.0, 206.0], [734128.0, 209.0], [734129.0, 202.0], [734132.0, 206.0], [734135.0, 205.0], [734140.0, 199.0], [734142.0, 205.0], [734143.0, 203.0], [734146.0, 207.0], [734147.0, 213.0], [734148.0, 219.0], [734149.0, 218.0], [734150.0, 215.0], [734153.0, 212.0], [734154.0, 224.0], [734155.0, 224.0], [734156.0, 225.0], [734157.0, 226.0], [734160.0, 230.0], [734161.0, 238.0], [734168.0, 241.0], [734188.0, 174.0], [734189.0, 174.0], [734190.0, 179.0], [734195.0, 173.0], [734196.0, 173.0], [734199.0, 176.0], [734212.0, 168.0], [734218.0, 165.0], [734219.0, 162.0], [734223.0, 159.0], [734226.0, 156.0], [734231.0, 159.0], [734240.0, 159.0], [734246.0, 159.0], [734247.0, 156.0], [734253.0, 153.0], [734261.0, 150.0], [734267.0, 147.0], [734269.0, 150.0], [734273.0, 157.0], [734283.0, 154.0], [734288.0, 153.0], [734294.0, 153.0], [734295.0, 153.0], [734297.0, 153.0], [734308.0, 150.0], [734309.0, 160.0], [734318.0, 158.0], [734336.0, 165.0], [734337.0, 164.0], [734338.0, 161.0], [734371.0, 155.0], [734372.0, 140.0], [734373.0, 136.0], [734374.0, 136.0], [734377.0, 124.0], [734378.0, 123.0], [734379.0, 125.0], [734381.0, 125.0], [734384.0, 136.0], [734385.0, 127.0], [734386.0, 127.0], [734387.0, 129.0], [734388.0, 127.0], [734392.0, 123.0], [734393.0, 128.0], [734394.0, 126.0], [734398.0, 125.0], [734399.0, 123.0], [734400.0, 125.0], [734401.0, 129.0], [734402.0, 129.0], [734405.0, 127.0], [734406.0, 125.0], [734409.0, 126.0], [734412.0, 128.0], [734419.0, 130.0], [734420.0, 130.0], [734423.0, 130.0], [734426.0, 131.0], [734428.0, 128.0], [734429.0, 125.0], [734430.0, 122.0], [734434.0, 121.0], [734435.0, 123.0], [734441.0, 125.0], [734444.0, 133.0], [734447.0, 134.0], [734449.0, 132.0], [734450.0, 131.0], [734451.0, 132.0], [734454.0, 130.0], [734455.0, 128.0], [734456.0, 129.0], [734457.0, 127.0], [734458.0, 127.0], [734462.0, 125.0], [734463.0, 125.0], [734464.0, 128.0], [734465.0, 128.0], [734468.0, 128.0], [734469.0, 126.0], [734470.0, 124.0], [734472.0, 122.0], [734475.0, 122.0], [734477.0, 120.0], [734478.0, 122.0], [734479.0, 126.0], [734482.0, 124.0], [734483.0, 125.0], [734484.0, 121.0], [734485.0, 133.0], [734486.0, 127.0], [734489.0, 126.0], [734490.0, 126.0], [734491.0, 127.0], [734492.0, 125.0], [734497.0, 120.0], [734504.0, 120.0], [734506.0, 116.0], [734512.0, 118.0], [734513.0, 116.0], [734514.0, 116.0], [734520.0, 115.0], [734521.0, 113.0], [734524.0, 113.0], [734525.0, 107.0], [734527.0, 107.0], [734533.0, 108.0], [734538.0, 110.0], [734540.0, 112.0], [734545.0, 112.0], [734549.0, 111.0], [734556.0, 110.0], [734560.0, 112.0], [734562.0, 116.0], [734567.0, 112.0], [734568.0, 108.0], [734573.0, 106.0], [734574.0, 106.0], [734583.0, 100.0], [734588.0, 100.0], [734589.0, 100.0], [734601.0, 105.0], [734608.0, 107.0], [734610.0, 107.0], [734612.0, 115.0], [734615.0, 116.0], [734618.0, 118.0], [734619.0, 124.0], [734622.0, 130.0], [734623.0, 134.0], [734643.0, 136.0], [734659.0, 132.0], [734668.0, 130.0], [734686.0, 128.0], [734687.0, 123.0], [734699.0, 111.0], [734700.0, 102.0], [734701.0, 107.0], [734702.0, 108.0], [734703.0, 104.0], [734706.0, 109.0], [734707.0, 107.0]], \"data02\": [[733877.0, NaN], [733882.0, NaN], [733887.0, NaN], [733889.0, NaN], [733890.0, NaN], [733891.0, NaN], [733901.0, NaN], [733903.0, NaN], [733904.0, NaN], [733905.0, NaN], [733908.0, NaN], [733909.0, NaN], [733910.0, NaN], [733916.0, NaN], [733917.0, NaN], [733918.0, NaN], [733922.0, NaN], [733923.0, NaN], [733924.0, NaN], [733926.0, NaN], [733930.0, NaN], [733931.0, NaN], [733933.0, NaN], [733936.0, NaN], [733937.0, NaN], [733939.0, NaN], [733940.0, NaN], [733943.0, NaN], [733945.0, NaN], [733946.0, NaN], [733951.0, NaN], [733959.0, NaN], [733965.0, NaN], [733967.0, NaN], [733968.0, NaN], [733971.0, NaN], [733972.0, NaN], [733973.0, NaN], [733974.0, NaN], [733975.0, NaN], [733978.0, NaN], [733979.0, NaN], [733980.0, NaN], [733981.0, NaN], [733985.0, NaN], [733986.0, NaN], [733987.0, NaN], [733988.0, NaN], [733989.0, NaN], [733992.0, NaN], [733993.0, NaN], [733994.0, NaN], [733995.0, NaN], [733996.0, NaN], [734001.0, NaN], [734002.0, NaN], [734003.0, NaN], [734006.0, NaN], [734007.0, NaN], [734010.0, NaN], [734013.0, NaN], [734014.0, NaN], [734015.0, NaN], [734017.0, NaN], [734020.0, NaN], [734021.0, NaN], [734022.0, NaN], [734024.0, NaN], [734027.0, NaN], [734028.0, NaN], [734029.0, NaN], [734031.0, NaN], [734038.0, NaN], [734041.0, NaN], [734042.0, NaN], [734043.0, NaN], [734044.0, NaN], [734045.0, NaN], [734048.0, NaN], [734050.0, NaN], [734052.0, NaN], [734057.0, NaN], [734069.0, NaN], [734071.0, NaN], [734072.0, NaN], [734073.0, NaN], [734078.0, NaN], [734079.0, NaN], [734080.0, NaN], [734085.0, NaN], [734086.0, NaN], [734087.0, NaN], [734090.0, NaN], [734092.0, NaN], [734094.0, NaN], [734097.0, NaN], [734098.0, NaN], [734099.0, NaN], [734100.0, NaN], [734101.0, NaN], [734104.0, NaN], [734106.0, NaN], [734107.0, NaN], [734108.0, NaN], [734111.0, NaN], [734112.0, NaN], [734113.0, NaN], [734115.0, NaN], [734118.0, NaN], [734119.0, NaN], [734121.0, NaN], [734125.0, NaN], [734126.0, NaN], [734128.0, NaN], [734129.0, NaN], [734132.0, NaN], [734135.0, NaN], [734140.0, NaN], [734142.0, NaN], [734143.0, NaN], [734146.0, NaN], [734147.0, NaN], [734148.0, NaN], [734149.0, NaN], [734150.0, NaN], [734153.0, NaN], [734154.0, NaN], [734155.0, NaN], [734156.0, NaN], [734157.0, NaN], [734160.0, NaN], [734161.0, NaN], [734168.0, NaN], [734188.0, NaN], [734189.0, NaN], [734190.0, NaN], [734195.0, NaN], [734196.0, NaN], [734199.0, NaN], [734212.0, NaN], [734218.0, NaN], [734219.0, NaN], [734223.0, NaN], [734226.0, NaN], [734231.0, NaN], [734240.0, NaN], [734246.0, NaN], [734247.0, NaN], [734253.0, NaN], [734261.0, NaN], [734267.0, NaN], [734269.0, NaN], [734273.0, NaN], [734283.0, NaN], [734288.0, NaN], [734294.0, NaN], [734295.0, NaN], [734297.0, NaN], [734308.0, NaN], [734309.0, NaN], [734318.0, NaN], [734336.0, NaN], [734337.0, NaN], [734338.0, NaN], [734371.0, NaN], [734372.0, NaN], [734373.0, NaN], [734374.0, NaN], [734377.0, NaN], [734378.0, NaN], [734379.0, NaN], [734381.0, NaN], [734384.0, NaN], [734385.0, NaN], [734386.0, NaN], [734387.0, NaN], [734388.0, NaN], [734392.0, NaN], [734393.0, NaN], [734394.0, NaN], [734398.0, NaN], [734399.0, NaN], [734400.0, NaN], [734401.0, NaN], [734402.0, NaN], [734405.0, NaN], [734406.0, NaN], [734409.0, NaN], [734412.0, NaN], [734419.0, NaN], [734420.0, NaN], [734423.0, NaN], [734426.0, NaN], [734428.0, NaN], [734429.0, NaN], [734430.0, NaN], [734434.0, NaN], [734435.0, NaN], [734441.0, NaN], [734444.0, NaN], [734447.0, NaN], [734449.0, NaN], [734450.0, NaN], [734451.0, NaN], [734454.0, NaN], [734455.0, NaN], [734456.0, NaN], [734457.0, NaN], [734458.0, NaN], [734462.0, NaN], [734463.0, NaN], [734464.0, NaN], [734465.0, NaN], [734468.0, NaN], [734469.0, NaN], [734470.0, NaN], [734472.0, NaN], [734475.0, NaN], [734477.0, NaN], [734478.0, NaN], [734479.0, NaN], [734482.0, NaN], [734483.0, NaN], [734484.0, NaN], [734485.0, NaN], [734486.0, NaN], [734489.0, NaN], [734490.0, NaN], [734491.0, NaN], [734492.0, NaN], [734497.0, NaN], [734504.0, NaN], [734506.0, NaN], [734512.0, NaN], [734513.0, NaN], [734514.0, NaN], [734520.0, NaN], [734521.0, NaN], [734524.0, NaN], [734525.0, NaN], [734527.0, NaN], [734533.0, NaN], [734538.0, NaN], [734540.0, NaN], [734545.0, NaN], [734549.0, NaN], [734556.0, NaN], [734560.0, NaN], [734562.0, NaN], [734567.0, NaN], [734568.0, NaN], [734573.0, NaN], [734574.0, NaN], [734583.0, NaN], [734588.0, NaN], [734589.0, NaN], [734601.0, NaN], [734608.0, NaN], [734610.0, NaN], [734612.0, NaN], [734615.0, NaN], [734618.0, NaN], [734619.0, NaN], [734622.0, NaN], [734623.0, NaN], [734643.0, NaN], [734659.0, NaN], [734668.0, NaN], [734686.0, NaN], [734687.0, NaN], [734699.0, NaN], [734700.0, NaN], [734701.0, NaN], [734702.0, NaN], [734703.2395833334, 100.745505579181], [734704.2395833334, 108.23033541096812], [734705.2395833334, 107.92594702287693]], \"data03\": [[0.7361857825567503, 0.9282577614379085, 0.849111519607843], [0.8018966547192353, 0.9282577614379085, 0.849111519607843]], \"data04\": [[0.7296146953405018, 0.7967728758169935], [0.9770011947431304, 0.7967728758169935], [0.983572281959379, 0.7967728758169935], [0.983572281959379, 0.8080065359477123], [0.983572281959379, 0.9606821895424839], [0.983572281959379, 0.9719158496732027], [0.9770011947431304, 0.9719158496732027], [0.7296146953405018, 0.9719158496732027], [0.7230436081242534, 0.9719158496732027], [0.7230436081242534, 0.9606821895424839], [0.7230436081242534, 0.8080065359477123], [0.7230436081242534, 0.7967728758169935], [0.7296146953405018, 0.7967728758169935]]}, \"id\": \"el18047139994244863504\", \"plugins\": [{\"type\": \"reset\"}, {\"type\": \"zoom\", \"button\": true, \"enabled\": false}, {\"type\": \"boxzoom\", \"button\": true, \"enabled\": false}]});\n",
       "   }(mpld3);\n",
       "}else if(typeof define === \"function\" && define.amd){\n",
       "   // require.js is available: use it to load d3/mpld3\n",
       "   require.config({paths: {d3: \"https://mpld3.github.io/js/d3.v3.min\"}});\n",
       "   require([\"d3\"], function(d3){\n",
       "      window.d3 = d3;\n",
       "      mpld3_load_lib(\"https://mpld3.github.io/js/mpld3.v0.3.js\", function(){\n",
       "         \n",
       "         mpld3.draw_figure(\"fig_el180471399942448635042448413653\", {\"width\": 432.0, \"height\": 288.0, \"axes\": [{\"bbox\": [0.125, 0.20000000000000007, 0.775, 0.6799999999999999], \"xlim\": [733835.5, 734748.5], \"ylim\": [90.0, 310.0], \"xdomain\": [[2010, 2, 4, 12, 0, 0, 0.0], [2012, 8, 2, 12, 0, 0, 0.0]], \"ydomain\": [90.0, 310.0], \"xscale\": \"date\", \"yscale\": \"linear\", \"axes\": [{\"position\": \"bottom\", \"nticks\": 10, \"tickvalues\": null, \"tickformat\": null, \"scale\": \"linear\", \"fontsize\": 11.0, \"grid\": {\"gridOn\": true, \"color\": \"#FFFFFF\", \"dasharray\": \"none\", \"alpha\": 1.0}, \"visible\": true}, {\"position\": \"left\", \"nticks\": 7, \"tickvalues\": null, \"tickformat\": null, \"scale\": \"linear\", \"fontsize\": 11.0, \"grid\": {\"gridOn\": true, \"color\": \"#FFFFFF\", \"dasharray\": \"none\", \"alpha\": 1.0}, \"visible\": true}], \"axesbg\": \"#EAEAF2\", \"axesbgalpha\": null, \"zoomable\": true, \"id\": \"el18047139994257515344\", \"lines\": [{\"data\": \"data01\", \"xindex\": 0, \"yindex\": 1, \"coordinates\": \"data\", \"id\": \"el18047139994257543632\", \"color\": \"#4C72B0\", \"linewidth\": 1.5, \"dasharray\": \"none\", \"alpha\": 1, \"zorder\": 2, \"drawstyle\": \"default\"}, {\"data\": \"data02\", \"xindex\": 0, \"yindex\": 1, \"coordinates\": \"data\", \"id\": \"el18047139994237855696\", \"color\": \"#DD8452\", \"linewidth\": 1.5, \"dasharray\": \"none\", \"alpha\": 1, \"zorder\": 2, \"drawstyle\": \"default\"}, {\"data\": \"data03\", \"xindex\": 0, \"yindex\": 1, \"coordinates\": \"axes\", \"id\": \"el18047139994244695056\", \"color\": \"#4C72B0\", \"linewidth\": 1.5, \"dasharray\": \"none\", \"alpha\": 1, \"zorder\": 1000002.0, \"drawstyle\": \"default\"}, {\"data\": \"data03\", \"xindex\": 0, \"yindex\": 2, \"coordinates\": \"axes\", \"id\": \"el18047139994244735184\", \"color\": \"#DD8452\", \"linewidth\": 1.5, \"dasharray\": \"none\", \"alpha\": 1, \"zorder\": 1000002.0, \"drawstyle\": \"default\"}], \"paths\": [{\"data\": \"data04\", \"xindex\": 0, \"yindex\": 1, \"coordinates\": \"axes\", \"pathcodes\": [\"M\", \"L\", \"S\", \"L\", \"S\", \"L\", \"S\", \"L\", \"S\", \"Z\"], \"id\": \"el18047139994243297872\", \"dasharray\": \"none\", \"alpha\": 0.8, \"facecolor\": \"#EAEAF2\", \"edgecolor\": \"#CCCCCC\", \"edgewidth\": 1.0, \"zorder\": 1000000.0}], \"markers\": [], \"texts\": [{\"text\": \"index\", \"position\": [0.49999999999999994, -0.23027856432722832], \"coordinates\": \"axes\", \"h_anchor\": \"middle\", \"v_baseline\": \"hanging\", \"rotation\": -0.0, \"fontsize\": 12.0, \"color\": \"#262626\", \"alpha\": 1, \"zorder\": 3, \"id\": \"el18047139994257516944\"}, {\"text\": \"label\", \"position\": [-0.10304659498207885, 0.5], \"coordinates\": \"axes\", \"h_anchor\": \"middle\", \"v_baseline\": \"auto\", \"rotation\": -90.0, \"fontsize\": 12.0, \"color\": \"#262626\", \"alpha\": 1, \"zorder\": 3, \"id\": \"el18047139994257518032\"}, {\"text\": \"close\", \"position\": [0.8281810035842294, 0.9085988562091504], \"coordinates\": \"axes\", \"h_anchor\": \"start\", \"v_baseline\": \"auto\", \"rotation\": -0.0, \"fontsize\": 11.0, \"color\": \"#262626\", \"alpha\": 1, \"zorder\": 1000003.0, \"id\": \"el18047139994244736400\"}, {\"text\": \"Forecast\", \"position\": [0.8281810035842294, 0.8294526143790849], \"coordinates\": \"axes\", \"h_anchor\": \"start\", \"v_baseline\": \"auto\", \"rotation\": -0.0, \"fontsize\": 11.0, \"color\": \"#262626\", \"alpha\": 1, \"zorder\": 1000003.0, \"id\": \"el18047139994244694352\"}], \"collections\": [], \"images\": [], \"sharex\": [], \"sharey\": []}], \"data\": {\"data01\": [[733877.0, 240.0], [733882.0, 240.0], [733887.0, 240.0], [733889.0, 240.0], [733890.0, 236.0], [733891.0, 240.0], [733901.0, 225.0], [733903.0, 226.0], [733904.0, 222.0], [733905.0, 230.0], [733908.0, 230.0], [733909.0, 226.0], [733910.0, 221.0], [733916.0, 243.0], [733917.0, 251.0], [733918.0, 265.0], [733922.0, 290.0], [733923.0, 300.0], [733924.0, 289.0], [733926.0, 284.0], [733930.0, 279.0], [733931.0, 284.0], [733933.0, 289.0], [733936.0, 294.0], [733937.0, 294.0], [733939.0, 289.0], [733940.0, 284.0], [733943.0, 283.0], [733945.0, 278.0], [733946.0, 278.0], [733951.0, 275.0], [733959.0, 265.0], [733965.0, 264.0], [733967.0, 251.0], [733968.0, 235.0], [733971.0, 236.0], [733972.0, 235.0], [733973.0, 235.0], [733974.0, 231.0], [733975.0, 243.0], [733978.0, 233.0], [733979.0, 234.0], [733980.0, 237.0], [733981.0, 233.0], [733985.0, 230.0], [733986.0, 232.0], [733987.0, 236.0], [733988.0, 240.0], [733989.0, 240.0], [733992.0, 242.0], [733993.0, 242.0], [733994.0, 242.0], [733995.0, 244.0], [733996.0, 248.0], [734001.0, 249.0], [734002.0, 250.0], [734003.0, 247.0], [734006.0, 244.0], [734007.0, 232.0], [734010.0, 236.0], [734013.0, 233.0], [734014.0, 236.0], [734015.0, 233.0], [734017.0, 233.0], [734020.0, 218.0], [734021.0, 219.0], [734022.0, 226.0], [734024.0, 226.0], [734027.0, 230.0], [734028.0, 227.0], [734029.0, 227.0], [734031.0, 223.0], [734038.0, 223.0], [734041.0, 219.0], [734042.0, 222.0], [734043.0, 222.0], [734044.0, 222.0], [734045.0, 226.0], [734048.0, 226.0], [734050.0, 230.0], [734052.0, 234.0], [734057.0, 234.0], [734069.0, 234.0], [734071.0, 238.0], [734072.0, 242.0], [734073.0, 243.0], [734078.0, 252.0], [734079.0, 262.0], [734080.0, 265.0], [734085.0, 263.0], [734086.0, 265.0], [734087.0, 260.0], [734090.0, 260.0], [734092.0, 255.0], [734094.0, 252.0], [734097.0, 252.0], [734098.0, 251.0], [734099.0, 251.0], [734100.0, 247.0], [734101.0, 243.0], [734104.0, 236.0], [734106.0, 232.0], [734107.0, 229.0], [734108.0, 225.0], [734111.0, 229.0], [734112.0, 223.0], [734113.0, 219.0], [734115.0, 220.0], [734118.0, 224.0], [734119.0, 220.0], [734121.0, 209.0], [734125.0, 210.0], [734126.0, 206.0], [734128.0, 209.0], [734129.0, 202.0], [734132.0, 206.0], [734135.0, 205.0], [734140.0, 199.0], [734142.0, 205.0], [734143.0, 203.0], [734146.0, 207.0], [734147.0, 213.0], [734148.0, 219.0], [734149.0, 218.0], [734150.0, 215.0], [734153.0, 212.0], [734154.0, 224.0], [734155.0, 224.0], [734156.0, 225.0], [734157.0, 226.0], [734160.0, 230.0], [734161.0, 238.0], [734168.0, 241.0], [734188.0, 174.0], [734189.0, 174.0], [734190.0, 179.0], [734195.0, 173.0], [734196.0, 173.0], [734199.0, 176.0], [734212.0, 168.0], [734218.0, 165.0], [734219.0, 162.0], [734223.0, 159.0], [734226.0, 156.0], [734231.0, 159.0], [734240.0, 159.0], [734246.0, 159.0], [734247.0, 156.0], [734253.0, 153.0], [734261.0, 150.0], [734267.0, 147.0], [734269.0, 150.0], [734273.0, 157.0], [734283.0, 154.0], [734288.0, 153.0], [734294.0, 153.0], [734295.0, 153.0], [734297.0, 153.0], [734308.0, 150.0], [734309.0, 160.0], [734318.0, 158.0], [734336.0, 165.0], [734337.0, 164.0], [734338.0, 161.0], [734371.0, 155.0], [734372.0, 140.0], [734373.0, 136.0], [734374.0, 136.0], [734377.0, 124.0], [734378.0, 123.0], [734379.0, 125.0], [734381.0, 125.0], [734384.0, 136.0], [734385.0, 127.0], [734386.0, 127.0], [734387.0, 129.0], [734388.0, 127.0], [734392.0, 123.0], [734393.0, 128.0], [734394.0, 126.0], [734398.0, 125.0], [734399.0, 123.0], [734400.0, 125.0], [734401.0, 129.0], [734402.0, 129.0], [734405.0, 127.0], [734406.0, 125.0], [734409.0, 126.0], [734412.0, 128.0], [734419.0, 130.0], [734420.0, 130.0], [734423.0, 130.0], [734426.0, 131.0], [734428.0, 128.0], [734429.0, 125.0], [734430.0, 122.0], [734434.0, 121.0], [734435.0, 123.0], [734441.0, 125.0], [734444.0, 133.0], [734447.0, 134.0], [734449.0, 132.0], [734450.0, 131.0], [734451.0, 132.0], [734454.0, 130.0], [734455.0, 128.0], [734456.0, 129.0], [734457.0, 127.0], [734458.0, 127.0], [734462.0, 125.0], [734463.0, 125.0], [734464.0, 128.0], [734465.0, 128.0], [734468.0, 128.0], [734469.0, 126.0], [734470.0, 124.0], [734472.0, 122.0], [734475.0, 122.0], [734477.0, 120.0], [734478.0, 122.0], [734479.0, 126.0], [734482.0, 124.0], [734483.0, 125.0], [734484.0, 121.0], [734485.0, 133.0], [734486.0, 127.0], [734489.0, 126.0], [734490.0, 126.0], [734491.0, 127.0], [734492.0, 125.0], [734497.0, 120.0], [734504.0, 120.0], [734506.0, 116.0], [734512.0, 118.0], [734513.0, 116.0], [734514.0, 116.0], [734520.0, 115.0], [734521.0, 113.0], [734524.0, 113.0], [734525.0, 107.0], [734527.0, 107.0], [734533.0, 108.0], [734538.0, 110.0], [734540.0, 112.0], [734545.0, 112.0], [734549.0, 111.0], [734556.0, 110.0], [734560.0, 112.0], [734562.0, 116.0], [734567.0, 112.0], [734568.0, 108.0], [734573.0, 106.0], [734574.0, 106.0], [734583.0, 100.0], [734588.0, 100.0], [734589.0, 100.0], [734601.0, 105.0], [734608.0, 107.0], [734610.0, 107.0], [734612.0, 115.0], [734615.0, 116.0], [734618.0, 118.0], [734619.0, 124.0], [734622.0, 130.0], [734623.0, 134.0], [734643.0, 136.0], [734659.0, 132.0], [734668.0, 130.0], [734686.0, 128.0], [734687.0, 123.0], [734699.0, 111.0], [734700.0, 102.0], [734701.0, 107.0], [734702.0, 108.0], [734703.0, 104.0], [734706.0, 109.0], [734707.0, 107.0]], \"data02\": [[733877.0, NaN], [733882.0, NaN], [733887.0, NaN], [733889.0, NaN], [733890.0, NaN], [733891.0, NaN], [733901.0, NaN], [733903.0, NaN], [733904.0, NaN], [733905.0, NaN], [733908.0, NaN], [733909.0, NaN], [733910.0, NaN], [733916.0, NaN], [733917.0, NaN], [733918.0, NaN], [733922.0, NaN], [733923.0, NaN], [733924.0, NaN], [733926.0, NaN], [733930.0, NaN], [733931.0, NaN], [733933.0, NaN], [733936.0, NaN], [733937.0, NaN], [733939.0, NaN], [733940.0, NaN], [733943.0, NaN], [733945.0, NaN], [733946.0, NaN], [733951.0, NaN], [733959.0, NaN], [733965.0, NaN], [733967.0, NaN], [733968.0, NaN], [733971.0, NaN], [733972.0, NaN], [733973.0, NaN], [733974.0, NaN], [733975.0, NaN], [733978.0, NaN], [733979.0, NaN], [733980.0, NaN], [733981.0, NaN], [733985.0, NaN], [733986.0, NaN], [733987.0, NaN], [733988.0, NaN], [733989.0, NaN], [733992.0, NaN], [733993.0, NaN], [733994.0, NaN], [733995.0, NaN], [733996.0, NaN], [734001.0, NaN], [734002.0, NaN], [734003.0, NaN], [734006.0, NaN], [734007.0, NaN], [734010.0, NaN], [734013.0, NaN], [734014.0, NaN], [734015.0, NaN], [734017.0, NaN], [734020.0, NaN], [734021.0, NaN], [734022.0, NaN], [734024.0, NaN], [734027.0, NaN], [734028.0, NaN], [734029.0, NaN], [734031.0, NaN], [734038.0, NaN], [734041.0, NaN], [734042.0, NaN], [734043.0, NaN], [734044.0, NaN], [734045.0, NaN], [734048.0, NaN], [734050.0, NaN], [734052.0, NaN], [734057.0, NaN], [734069.0, NaN], [734071.0, NaN], [734072.0, NaN], [734073.0, NaN], [734078.0, NaN], [734079.0, NaN], [734080.0, NaN], [734085.0, NaN], [734086.0, NaN], [734087.0, NaN], [734090.0, NaN], [734092.0, NaN], [734094.0, NaN], [734097.0, NaN], [734098.0, NaN], [734099.0, NaN], [734100.0, NaN], [734101.0, NaN], [734104.0, NaN], [734106.0, NaN], [734107.0, NaN], [734108.0, NaN], [734111.0, NaN], [734112.0, NaN], [734113.0, NaN], [734115.0, NaN], [734118.0, NaN], [734119.0, NaN], [734121.0, NaN], [734125.0, NaN], [734126.0, NaN], [734128.0, NaN], [734129.0, NaN], [734132.0, NaN], [734135.0, NaN], [734140.0, NaN], [734142.0, NaN], [734143.0, NaN], [734146.0, NaN], [734147.0, NaN], [734148.0, NaN], [734149.0, NaN], [734150.0, NaN], [734153.0, NaN], [734154.0, NaN], [734155.0, NaN], [734156.0, NaN], [734157.0, NaN], [734160.0, NaN], [734161.0, NaN], [734168.0, NaN], [734188.0, NaN], [734189.0, NaN], [734190.0, NaN], [734195.0, NaN], [734196.0, NaN], [734199.0, NaN], [734212.0, NaN], [734218.0, NaN], [734219.0, NaN], [734223.0, NaN], [734226.0, NaN], [734231.0, NaN], [734240.0, NaN], [734246.0, NaN], [734247.0, NaN], [734253.0, NaN], [734261.0, NaN], [734267.0, NaN], [734269.0, NaN], [734273.0, NaN], [734283.0, NaN], [734288.0, NaN], [734294.0, NaN], [734295.0, NaN], [734297.0, NaN], [734308.0, NaN], [734309.0, NaN], [734318.0, NaN], [734336.0, NaN], [734337.0, NaN], [734338.0, NaN], [734371.0, NaN], [734372.0, NaN], [734373.0, NaN], [734374.0, NaN], [734377.0, NaN], [734378.0, NaN], [734379.0, NaN], [734381.0, NaN], [734384.0, NaN], [734385.0, NaN], [734386.0, NaN], [734387.0, NaN], [734388.0, NaN], [734392.0, NaN], [734393.0, NaN], [734394.0, NaN], [734398.0, NaN], [734399.0, NaN], [734400.0, NaN], [734401.0, NaN], [734402.0, NaN], [734405.0, NaN], [734406.0, NaN], [734409.0, NaN], [734412.0, NaN], [734419.0, NaN], [734420.0, NaN], [734423.0, NaN], [734426.0, NaN], [734428.0, NaN], [734429.0, NaN], [734430.0, NaN], [734434.0, NaN], [734435.0, NaN], [734441.0, NaN], [734444.0, NaN], [734447.0, NaN], [734449.0, NaN], [734450.0, NaN], [734451.0, NaN], [734454.0, NaN], [734455.0, NaN], [734456.0, NaN], [734457.0, NaN], [734458.0, NaN], [734462.0, NaN], [734463.0, NaN], [734464.0, NaN], [734465.0, NaN], [734468.0, NaN], [734469.0, NaN], [734470.0, NaN], [734472.0, NaN], [734475.0, NaN], [734477.0, NaN], [734478.0, NaN], [734479.0, NaN], [734482.0, NaN], [734483.0, NaN], [734484.0, NaN], [734485.0, NaN], [734486.0, NaN], [734489.0, NaN], [734490.0, NaN], [734491.0, NaN], [734492.0, NaN], [734497.0, NaN], [734504.0, NaN], [734506.0, NaN], [734512.0, NaN], [734513.0, NaN], [734514.0, NaN], [734520.0, NaN], [734521.0, NaN], [734524.0, NaN], [734525.0, NaN], [734527.0, NaN], [734533.0, NaN], [734538.0, NaN], [734540.0, NaN], [734545.0, NaN], [734549.0, NaN], [734556.0, NaN], [734560.0, NaN], [734562.0, NaN], [734567.0, NaN], [734568.0, NaN], [734573.0, NaN], [734574.0, NaN], [734583.0, NaN], [734588.0, NaN], [734589.0, NaN], [734601.0, NaN], [734608.0, NaN], [734610.0, NaN], [734612.0, NaN], [734615.0, NaN], [734618.0, NaN], [734619.0, NaN], [734622.0, NaN], [734623.0, NaN], [734643.0, NaN], [734659.0, NaN], [734668.0, NaN], [734686.0, NaN], [734687.0, NaN], [734699.0, NaN], [734700.0, NaN], [734701.0, NaN], [734702.0, NaN], [734703.2395833334, 100.745505579181], [734704.2395833334, 108.23033541096812], [734705.2395833334, 107.92594702287693]], \"data03\": [[0.7361857825567503, 0.9282577614379085, 0.849111519607843], [0.8018966547192353, 0.9282577614379085, 0.849111519607843]], \"data04\": [[0.7296146953405018, 0.7967728758169935], [0.9770011947431304, 0.7967728758169935], [0.983572281959379, 0.7967728758169935], [0.983572281959379, 0.8080065359477123], [0.983572281959379, 0.9606821895424839], [0.983572281959379, 0.9719158496732027], [0.9770011947431304, 0.9719158496732027], [0.7296146953405018, 0.9719158496732027], [0.7230436081242534, 0.9719158496732027], [0.7230436081242534, 0.9606821895424839], [0.7230436081242534, 0.8080065359477123], [0.7230436081242534, 0.7967728758169935], [0.7296146953405018, 0.7967728758169935]]}, \"id\": \"el18047139994244863504\", \"plugins\": [{\"type\": \"reset\"}, {\"type\": \"zoom\", \"button\": true, \"enabled\": false}, {\"type\": \"boxzoom\", \"button\": true, \"enabled\": false}]});\n",
       "      });\n",
       "    });\n",
       "}else{\n",
       "    // require.js not available: dynamically load d3 & mpld3\n",
       "    mpld3_load_lib(\"https://mpld3.github.io/js/d3.v3.min.js\", function(){\n",
       "         mpld3_load_lib(\"https://mpld3.github.io/js/mpld3.v0.3.js\", function(){\n",
       "                 \n",
       "                 mpld3.draw_figure(\"fig_el180471399942448635042448413653\", {\"width\": 432.0, \"height\": 288.0, \"axes\": [{\"bbox\": [0.125, 0.20000000000000007, 0.775, 0.6799999999999999], \"xlim\": [733835.5, 734748.5], \"ylim\": [90.0, 310.0], \"xdomain\": [[2010, 2, 4, 12, 0, 0, 0.0], [2012, 8, 2, 12, 0, 0, 0.0]], \"ydomain\": [90.0, 310.0], \"xscale\": \"date\", \"yscale\": \"linear\", \"axes\": [{\"position\": \"bottom\", \"nticks\": 10, \"tickvalues\": null, \"tickformat\": null, \"scale\": \"linear\", \"fontsize\": 11.0, \"grid\": {\"gridOn\": true, \"color\": \"#FFFFFF\", \"dasharray\": \"none\", \"alpha\": 1.0}, \"visible\": true}, {\"position\": \"left\", \"nticks\": 7, \"tickvalues\": null, \"tickformat\": null, \"scale\": \"linear\", \"fontsize\": 11.0, \"grid\": {\"gridOn\": true, \"color\": \"#FFFFFF\", \"dasharray\": \"none\", \"alpha\": 1.0}, \"visible\": true}], \"axesbg\": \"#EAEAF2\", \"axesbgalpha\": null, \"zoomable\": true, \"id\": \"el18047139994257515344\", \"lines\": [{\"data\": \"data01\", \"xindex\": 0, \"yindex\": 1, \"coordinates\": \"data\", \"id\": \"el18047139994257543632\", \"color\": \"#4C72B0\", \"linewidth\": 1.5, \"dasharray\": \"none\", \"alpha\": 1, \"zorder\": 2, \"drawstyle\": \"default\"}, {\"data\": \"data02\", \"xindex\": 0, \"yindex\": 1, \"coordinates\": \"data\", \"id\": \"el18047139994237855696\", \"color\": \"#DD8452\", \"linewidth\": 1.5, \"dasharray\": \"none\", \"alpha\": 1, \"zorder\": 2, \"drawstyle\": \"default\"}, {\"data\": \"data03\", \"xindex\": 0, \"yindex\": 1, \"coordinates\": \"axes\", \"id\": \"el18047139994244695056\", \"color\": \"#4C72B0\", \"linewidth\": 1.5, \"dasharray\": \"none\", \"alpha\": 1, \"zorder\": 1000002.0, \"drawstyle\": \"default\"}, {\"data\": \"data03\", \"xindex\": 0, \"yindex\": 2, \"coordinates\": \"axes\", \"id\": \"el18047139994244735184\", \"color\": \"#DD8452\", \"linewidth\": 1.5, \"dasharray\": \"none\", \"alpha\": 1, \"zorder\": 1000002.0, \"drawstyle\": \"default\"}], \"paths\": [{\"data\": \"data04\", \"xindex\": 0, \"yindex\": 1, \"coordinates\": \"axes\", \"pathcodes\": [\"M\", \"L\", \"S\", \"L\", \"S\", \"L\", \"S\", \"L\", \"S\", \"Z\"], \"id\": \"el18047139994243297872\", \"dasharray\": \"none\", \"alpha\": 0.8, \"facecolor\": \"#EAEAF2\", \"edgecolor\": \"#CCCCCC\", \"edgewidth\": 1.0, \"zorder\": 1000000.0}], \"markers\": [], \"texts\": [{\"text\": \"index\", \"position\": [0.49999999999999994, -0.23027856432722832], \"coordinates\": \"axes\", \"h_anchor\": \"middle\", \"v_baseline\": \"hanging\", \"rotation\": -0.0, \"fontsize\": 12.0, \"color\": \"#262626\", \"alpha\": 1, \"zorder\": 3, \"id\": \"el18047139994257516944\"}, {\"text\": \"label\", \"position\": [-0.10304659498207885, 0.5], \"coordinates\": \"axes\", \"h_anchor\": \"middle\", \"v_baseline\": \"auto\", \"rotation\": -90.0, \"fontsize\": 12.0, \"color\": \"#262626\", \"alpha\": 1, \"zorder\": 3, \"id\": \"el18047139994257518032\"}, {\"text\": \"close\", \"position\": [0.8281810035842294, 0.9085988562091504], \"coordinates\": \"axes\", \"h_anchor\": \"start\", \"v_baseline\": \"auto\", \"rotation\": -0.0, \"fontsize\": 11.0, \"color\": \"#262626\", \"alpha\": 1, \"zorder\": 1000003.0, \"id\": \"el18047139994244736400\"}, {\"text\": \"Forecast\", \"position\": [0.8281810035842294, 0.8294526143790849], \"coordinates\": \"axes\", \"h_anchor\": \"start\", \"v_baseline\": \"auto\", \"rotation\": -0.0, \"fontsize\": 11.0, \"color\": \"#262626\", \"alpha\": 1, \"zorder\": 1000003.0, \"id\": \"el18047139994244694352\"}], \"collections\": [], \"images\": [], \"sharex\": [], \"sharey\": []}], \"data\": {\"data01\": [[733877.0, 240.0], [733882.0, 240.0], [733887.0, 240.0], [733889.0, 240.0], [733890.0, 236.0], [733891.0, 240.0], [733901.0, 225.0], [733903.0, 226.0], [733904.0, 222.0], [733905.0, 230.0], [733908.0, 230.0], [733909.0, 226.0], [733910.0, 221.0], [733916.0, 243.0], [733917.0, 251.0], [733918.0, 265.0], [733922.0, 290.0], [733923.0, 300.0], [733924.0, 289.0], [733926.0, 284.0], [733930.0, 279.0], [733931.0, 284.0], [733933.0, 289.0], [733936.0, 294.0], [733937.0, 294.0], [733939.0, 289.0], [733940.0, 284.0], [733943.0, 283.0], [733945.0, 278.0], [733946.0, 278.0], [733951.0, 275.0], [733959.0, 265.0], [733965.0, 264.0], [733967.0, 251.0], [733968.0, 235.0], [733971.0, 236.0], [733972.0, 235.0], [733973.0, 235.0], [733974.0, 231.0], [733975.0, 243.0], [733978.0, 233.0], [733979.0, 234.0], [733980.0, 237.0], [733981.0, 233.0], [733985.0, 230.0], [733986.0, 232.0], [733987.0, 236.0], [733988.0, 240.0], [733989.0, 240.0], [733992.0, 242.0], [733993.0, 242.0], [733994.0, 242.0], [733995.0, 244.0], [733996.0, 248.0], [734001.0, 249.0], [734002.0, 250.0], [734003.0, 247.0], [734006.0, 244.0], [734007.0, 232.0], [734010.0, 236.0], [734013.0, 233.0], [734014.0, 236.0], [734015.0, 233.0], [734017.0, 233.0], [734020.0, 218.0], [734021.0, 219.0], [734022.0, 226.0], [734024.0, 226.0], [734027.0, 230.0], [734028.0, 227.0], [734029.0, 227.0], [734031.0, 223.0], [734038.0, 223.0], [734041.0, 219.0], [734042.0, 222.0], [734043.0, 222.0], [734044.0, 222.0], [734045.0, 226.0], [734048.0, 226.0], [734050.0, 230.0], [734052.0, 234.0], [734057.0, 234.0], [734069.0, 234.0], [734071.0, 238.0], [734072.0, 242.0], [734073.0, 243.0], [734078.0, 252.0], [734079.0, 262.0], [734080.0, 265.0], [734085.0, 263.0], [734086.0, 265.0], [734087.0, 260.0], [734090.0, 260.0], [734092.0, 255.0], [734094.0, 252.0], [734097.0, 252.0], [734098.0, 251.0], [734099.0, 251.0], [734100.0, 247.0], [734101.0, 243.0], [734104.0, 236.0], [734106.0, 232.0], [734107.0, 229.0], [734108.0, 225.0], [734111.0, 229.0], [734112.0, 223.0], [734113.0, 219.0], [734115.0, 220.0], [734118.0, 224.0], [734119.0, 220.0], [734121.0, 209.0], [734125.0, 210.0], [734126.0, 206.0], [734128.0, 209.0], [734129.0, 202.0], [734132.0, 206.0], [734135.0, 205.0], [734140.0, 199.0], [734142.0, 205.0], [734143.0, 203.0], [734146.0, 207.0], [734147.0, 213.0], [734148.0, 219.0], [734149.0, 218.0], [734150.0, 215.0], [734153.0, 212.0], [734154.0, 224.0], [734155.0, 224.0], [734156.0, 225.0], [734157.0, 226.0], [734160.0, 230.0], [734161.0, 238.0], [734168.0, 241.0], [734188.0, 174.0], [734189.0, 174.0], [734190.0, 179.0], [734195.0, 173.0], [734196.0, 173.0], [734199.0, 176.0], [734212.0, 168.0], [734218.0, 165.0], [734219.0, 162.0], [734223.0, 159.0], [734226.0, 156.0], [734231.0, 159.0], [734240.0, 159.0], [734246.0, 159.0], [734247.0, 156.0], [734253.0, 153.0], [734261.0, 150.0], [734267.0, 147.0], [734269.0, 150.0], [734273.0, 157.0], [734283.0, 154.0], [734288.0, 153.0], [734294.0, 153.0], [734295.0, 153.0], [734297.0, 153.0], [734308.0, 150.0], [734309.0, 160.0], [734318.0, 158.0], [734336.0, 165.0], [734337.0, 164.0], [734338.0, 161.0], [734371.0, 155.0], [734372.0, 140.0], [734373.0, 136.0], [734374.0, 136.0], [734377.0, 124.0], [734378.0, 123.0], [734379.0, 125.0], [734381.0, 125.0], [734384.0, 136.0], [734385.0, 127.0], [734386.0, 127.0], [734387.0, 129.0], [734388.0, 127.0], [734392.0, 123.0], [734393.0, 128.0], [734394.0, 126.0], [734398.0, 125.0], [734399.0, 123.0], [734400.0, 125.0], [734401.0, 129.0], [734402.0, 129.0], [734405.0, 127.0], [734406.0, 125.0], [734409.0, 126.0], [734412.0, 128.0], [734419.0, 130.0], [734420.0, 130.0], [734423.0, 130.0], [734426.0, 131.0], [734428.0, 128.0], [734429.0, 125.0], [734430.0, 122.0], [734434.0, 121.0], [734435.0, 123.0], [734441.0, 125.0], [734444.0, 133.0], [734447.0, 134.0], [734449.0, 132.0], [734450.0, 131.0], [734451.0, 132.0], [734454.0, 130.0], [734455.0, 128.0], [734456.0, 129.0], [734457.0, 127.0], [734458.0, 127.0], [734462.0, 125.0], [734463.0, 125.0], [734464.0, 128.0], [734465.0, 128.0], [734468.0, 128.0], [734469.0, 126.0], [734470.0, 124.0], [734472.0, 122.0], [734475.0, 122.0], [734477.0, 120.0], [734478.0, 122.0], [734479.0, 126.0], [734482.0, 124.0], [734483.0, 125.0], [734484.0, 121.0], [734485.0, 133.0], [734486.0, 127.0], [734489.0, 126.0], [734490.0, 126.0], [734491.0, 127.0], [734492.0, 125.0], [734497.0, 120.0], [734504.0, 120.0], [734506.0, 116.0], [734512.0, 118.0], [734513.0, 116.0], [734514.0, 116.0], [734520.0, 115.0], [734521.0, 113.0], [734524.0, 113.0], [734525.0, 107.0], [734527.0, 107.0], [734533.0, 108.0], [734538.0, 110.0], [734540.0, 112.0], [734545.0, 112.0], [734549.0, 111.0], [734556.0, 110.0], [734560.0, 112.0], [734562.0, 116.0], [734567.0, 112.0], [734568.0, 108.0], [734573.0, 106.0], [734574.0, 106.0], [734583.0, 100.0], [734588.0, 100.0], [734589.0, 100.0], [734601.0, 105.0], [734608.0, 107.0], [734610.0, 107.0], [734612.0, 115.0], [734615.0, 116.0], [734618.0, 118.0], [734619.0, 124.0], [734622.0, 130.0], [734623.0, 134.0], [734643.0, 136.0], [734659.0, 132.0], [734668.0, 130.0], [734686.0, 128.0], [734687.0, 123.0], [734699.0, 111.0], [734700.0, 102.0], [734701.0, 107.0], [734702.0, 108.0], [734703.0, 104.0], [734706.0, 109.0], [734707.0, 107.0]], \"data02\": [[733877.0, NaN], [733882.0, NaN], [733887.0, NaN], [733889.0, NaN], [733890.0, NaN], [733891.0, NaN], [733901.0, NaN], [733903.0, NaN], [733904.0, NaN], [733905.0, NaN], [733908.0, NaN], [733909.0, NaN], [733910.0, NaN], [733916.0, NaN], [733917.0, NaN], [733918.0, NaN], [733922.0, NaN], [733923.0, NaN], [733924.0, NaN], [733926.0, NaN], [733930.0, NaN], [733931.0, NaN], [733933.0, NaN], [733936.0, NaN], [733937.0, NaN], [733939.0, NaN], [733940.0, NaN], [733943.0, NaN], [733945.0, NaN], [733946.0, NaN], [733951.0, NaN], [733959.0, NaN], [733965.0, NaN], [733967.0, NaN], [733968.0, NaN], [733971.0, NaN], [733972.0, NaN], [733973.0, NaN], [733974.0, NaN], [733975.0, NaN], [733978.0, NaN], [733979.0, NaN], [733980.0, NaN], [733981.0, NaN], [733985.0, NaN], [733986.0, NaN], [733987.0, NaN], [733988.0, NaN], [733989.0, NaN], [733992.0, NaN], [733993.0, NaN], [733994.0, NaN], [733995.0, NaN], [733996.0, NaN], [734001.0, NaN], [734002.0, NaN], [734003.0, NaN], [734006.0, NaN], [734007.0, NaN], [734010.0, NaN], [734013.0, NaN], [734014.0, NaN], [734015.0, NaN], [734017.0, NaN], [734020.0, NaN], [734021.0, NaN], [734022.0, NaN], [734024.0, NaN], [734027.0, NaN], [734028.0, NaN], [734029.0, NaN], [734031.0, NaN], [734038.0, NaN], [734041.0, NaN], [734042.0, NaN], [734043.0, NaN], [734044.0, NaN], [734045.0, NaN], [734048.0, NaN], [734050.0, NaN], [734052.0, NaN], [734057.0, NaN], [734069.0, NaN], [734071.0, NaN], [734072.0, NaN], [734073.0, NaN], [734078.0, NaN], [734079.0, NaN], [734080.0, NaN], [734085.0, NaN], [734086.0, NaN], [734087.0, NaN], [734090.0, NaN], [734092.0, NaN], [734094.0, NaN], [734097.0, NaN], [734098.0, NaN], [734099.0, NaN], [734100.0, NaN], [734101.0, NaN], [734104.0, NaN], [734106.0, NaN], [734107.0, NaN], [734108.0, NaN], [734111.0, NaN], [734112.0, NaN], [734113.0, NaN], [734115.0, NaN], [734118.0, NaN], [734119.0, NaN], [734121.0, NaN], [734125.0, NaN], [734126.0, NaN], [734128.0, NaN], [734129.0, NaN], [734132.0, NaN], [734135.0, NaN], [734140.0, NaN], [734142.0, NaN], [734143.0, NaN], [734146.0, NaN], [734147.0, NaN], [734148.0, NaN], [734149.0, NaN], [734150.0, NaN], [734153.0, NaN], [734154.0, NaN], [734155.0, NaN], [734156.0, NaN], [734157.0, NaN], [734160.0, NaN], [734161.0, NaN], [734168.0, NaN], [734188.0, NaN], [734189.0, NaN], [734190.0, NaN], [734195.0, NaN], [734196.0, NaN], [734199.0, NaN], [734212.0, NaN], [734218.0, NaN], [734219.0, NaN], [734223.0, NaN], [734226.0, NaN], [734231.0, NaN], [734240.0, NaN], [734246.0, NaN], [734247.0, NaN], [734253.0, NaN], [734261.0, NaN], [734267.0, NaN], [734269.0, NaN], [734273.0, NaN], [734283.0, NaN], [734288.0, NaN], [734294.0, NaN], [734295.0, NaN], [734297.0, NaN], [734308.0, NaN], [734309.0, NaN], [734318.0, NaN], [734336.0, NaN], [734337.0, NaN], [734338.0, NaN], [734371.0, NaN], [734372.0, NaN], [734373.0, NaN], [734374.0, NaN], [734377.0, NaN], [734378.0, NaN], [734379.0, NaN], [734381.0, NaN], [734384.0, NaN], [734385.0, NaN], [734386.0, NaN], [734387.0, NaN], [734388.0, NaN], [734392.0, NaN], [734393.0, NaN], [734394.0, NaN], [734398.0, NaN], [734399.0, NaN], [734400.0, NaN], [734401.0, NaN], [734402.0, NaN], [734405.0, NaN], [734406.0, NaN], [734409.0, NaN], [734412.0, NaN], [734419.0, NaN], [734420.0, NaN], [734423.0, NaN], [734426.0, NaN], [734428.0, NaN], [734429.0, NaN], [734430.0, NaN], [734434.0, NaN], [734435.0, NaN], [734441.0, NaN], [734444.0, NaN], [734447.0, NaN], [734449.0, NaN], [734450.0, NaN], [734451.0, NaN], [734454.0, NaN], [734455.0, NaN], [734456.0, NaN], [734457.0, NaN], [734458.0, NaN], [734462.0, NaN], [734463.0, NaN], [734464.0, NaN], [734465.0, NaN], [734468.0, NaN], [734469.0, NaN], [734470.0, NaN], [734472.0, NaN], [734475.0, NaN], [734477.0, NaN], [734478.0, NaN], [734479.0, NaN], [734482.0, NaN], [734483.0, NaN], [734484.0, NaN], [734485.0, NaN], [734486.0, NaN], [734489.0, NaN], [734490.0, NaN], [734491.0, NaN], [734492.0, NaN], [734497.0, NaN], [734504.0, NaN], [734506.0, NaN], [734512.0, NaN], [734513.0, NaN], [734514.0, NaN], [734520.0, NaN], [734521.0, NaN], [734524.0, NaN], [734525.0, NaN], [734527.0, NaN], [734533.0, NaN], [734538.0, NaN], [734540.0, NaN], [734545.0, NaN], [734549.0, NaN], [734556.0, NaN], [734560.0, NaN], [734562.0, NaN], [734567.0, NaN], [734568.0, NaN], [734573.0, NaN], [734574.0, NaN], [734583.0, NaN], [734588.0, NaN], [734589.0, NaN], [734601.0, NaN], [734608.0, NaN], [734610.0, NaN], [734612.0, NaN], [734615.0, NaN], [734618.0, NaN], [734619.0, NaN], [734622.0, NaN], [734623.0, NaN], [734643.0, NaN], [734659.0, NaN], [734668.0, NaN], [734686.0, NaN], [734687.0, NaN], [734699.0, NaN], [734700.0, NaN], [734701.0, NaN], [734702.0, NaN], [734703.2395833334, 100.745505579181], [734704.2395833334, 108.23033541096812], [734705.2395833334, 107.92594702287693]], \"data03\": [[0.7361857825567503, 0.9282577614379085, 0.849111519607843], [0.8018966547192353, 0.9282577614379085, 0.849111519607843]], \"data04\": [[0.7296146953405018, 0.7967728758169935], [0.9770011947431304, 0.7967728758169935], [0.983572281959379, 0.7967728758169935], [0.983572281959379, 0.8080065359477123], [0.983572281959379, 0.9606821895424839], [0.983572281959379, 0.9719158496732027], [0.9770011947431304, 0.9719158496732027], [0.7296146953405018, 0.9719158496732027], [0.7230436081242534, 0.9719158496732027], [0.7230436081242534, 0.9606821895424839], [0.7230436081242534, 0.8080065359477123], [0.7230436081242534, 0.7967728758169935], [0.7296146953405018, 0.7967728758169935]]}, \"id\": \"el18047139994244863504\", \"plugins\": [{\"type\": \"reset\"}, {\"type\": \"zoom\", \"button\": true, \"enabled\": false}, {\"type\": \"boxzoom\", \"button\": true, \"enabled\": false}]});\n",
       "            })\n",
       "         });\n",
       "}\n",
       "</script>"
      ],
      "text/plain": [
       "<Figure size 432x288 with 1 Axes>"
      ]
     },
     "metadata": {},
     "output_type": "display_data"
    }
   ],
   "source": [
    "from sklearn.metrics import mean_squared_error, r2_score\n",
    "\n",
    "forecast_set = clf.predict(X_lately)\n",
    "print(len(forecast_set))\n",
    "print(len(X_lately),len(X),forecast_set, Accuracy, forecast_out)\n",
    "df['Forecast'] = np.nan\n",
    "\n",
    "\n",
    "last_date = df.iloc[-1].name\n",
    "last_unix = last_date.timestamp()\n",
    "one_day = 86400\n",
    "next_unix = last_unix + one_day\n",
    "\n",
    "for i in forecast_set:\n",
    "    next_date = datetime.datetime.fromtimestamp(next_unix)\n",
    "    next_unix += 86400\n",
    "    df.loc[next_date] = [np.nan for _ in range(len(df.columns)-1)]+[i]\n",
    "\n",
    "    \n",
    "\n",
    "df_close['close'].plot()\n",
    "df['Forecast'].plot()\n",
    "\n",
    "plt.legend(loc=0)\n",
    "plt.xlabel('index')\n",
    "plt.ylabel('label')\n",
    "plt.show()\n",
    "\n",
    "# ax1 = sns.distplot(df['close'], hist=False, color=\"r\", label=\"actual\")\n",
    "# ax2 = sns.distplot(df['label'], hist=False, color=\"b\", label=\"predicted\", ax=ax1)\n",
    "# sns.distplot(df['Forecast'], hist=False, color=\"g\", label=\"predicted\", ax=ax2)"
   ]
  },
  {
   "cell_type": "code",
   "execution_count": 130,
   "metadata": {},
   "outputs": [
    {
     "name": "stdout",
     "output_type": "stream",
     "text": [
      "180.80088042177886\n",
      "[ -5.56105031 -31.87262027  95.16404142  -1.11197535]\n"
     ]
    }
   ],
   "source": [
    "print(clf.intercept_)\n",
    "print(clf.coef_)"
   ]
  },
  {
   "cell_type": "code",
   "execution_count": 131,
   "metadata": {},
   "outputs": [],
   "source": [
    "def regression_results(y_true, y_pred):\n",
    "\n",
    "    # Regression metrics\n",
    "    explained_variance=metrics.explained_variance_score(y_true, y_pred)\n",
    "    mean_absolute_error=metrics.mean_absolute_error(y_true, y_pred) \n",
    "    mse=metrics.mean_squared_error(y_true, y_pred) \n",
    "    mean_squared_log_error=metrics.mean_squared_log_error(y_true, y_pred)\n",
    "    median_absolute_error=metrics.median_absolute_error(y_true, y_pred)\n",
    "    r2=metrics.r2_score(y_true, y_pred)\n",
    "\n",
    "    print('explained_variance: ', round(explained_variance,4))    \n",
    "    print('mean_squared_log_error: ', round(mean_squared_log_error,4))\n",
    "    print('r2: ', round(r2,4))\n",
    "    print('MAE: ', round(mean_absolute_error,4))\n",
    "    print('MSE: ', round(mse,4))\n",
    "    print('RMSE: ', round(np.sqrt(mse),4))"
   ]
  },
  {
   "cell_type": "code",
   "execution_count": 132,
   "metadata": {},
   "outputs": [
    {
     "name": "stdout",
     "output_type": "stream",
     "text": [
      "explained_variance:  0.9792\n",
      "mean_squared_log_error:  0.0024\n",
      "r2:  0.9791\n",
      "MAE:  6.089\n",
      "MSE:  66.5403\n",
      "RMSE:  8.1572\n",
      "None\n"
     ]
    }
   ],
   "source": [
    "print(regression_results(y_test, y_pred))"
   ]
  },
  {
   "cell_type": "code",
   "execution_count": 133,
   "metadata": {},
   "outputs": [
    {
     "data": {
      "text/plain": [
       "3156.9659311956707"
      ]
     },
     "execution_count": 133,
     "metadata": {},
     "output_type": "execute_result"
    }
   ],
   "source": [
    "fstat = (Accuracy/(1-Accuracy))*((274-4-1)/4) #you should find N and K yourself\n",
    "fstat"
   ]
  },
  {
   "cell_type": "code",
   "execution_count": null,
   "metadata": {},
   "outputs": [],
   "source": []
  },
  {
   "cell_type": "code",
   "execution_count": null,
   "metadata": {},
   "outputs": [],
   "source": []
  },
  {
   "cell_type": "code",
   "execution_count": null,
   "metadata": {},
   "outputs": [],
   "source": []
  },
  {
   "cell_type": "code",
   "execution_count": null,
   "metadata": {},
   "outputs": [],
   "source": []
  },
  {
   "cell_type": "code",
   "execution_count": null,
   "metadata": {},
   "outputs": [],
   "source": []
  },
  {
   "cell_type": "code",
   "execution_count": null,
   "metadata": {},
   "outputs": [],
   "source": []
  },
  {
   "cell_type": "code",
   "execution_count": null,
   "metadata": {},
   "outputs": [],
   "source": []
  },
  {
   "cell_type": "code",
   "execution_count": null,
   "metadata": {},
   "outputs": [],
   "source": []
  }
 ],
 "metadata": {
  "kernelspec": {
   "display_name": "Python 3",
   "language": "python",
   "name": "python3"
  },
  "language_info": {
   "codemirror_mode": {
    "name": "ipython",
    "version": 3
   },
   "file_extension": ".py",
   "mimetype": "text/x-python",
   "name": "python",
   "nbconvert_exporter": "python",
   "pygments_lexer": "ipython3",
   "version": "3.7.6"
  }
 },
 "nbformat": 4,
 "nbformat_minor": 4
}
